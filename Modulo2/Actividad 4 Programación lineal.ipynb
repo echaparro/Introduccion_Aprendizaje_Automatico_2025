{
 "cells": [
  {
   "cell_type": "markdown",
   "metadata": {},
   "source": [
    "<img style=\"float: left;;\" src='Figures/alinco.png' /></a>\n",
    "    \n",
    "# <center> <font color= #000047> Actividad 4: Programación lineal ( Ejercicios )</font>\n",
    "___\n",
    "\n"
   ]
  },
  {
   "cell_type": "markdown",
   "metadata": {},
   "source": [
    "### 1. Diseño de la Dieta Óptima\n",
    "\n",
    "Se quiere producir comida para gatos de la manera más barata, no obstante se debe también asegurar que se cumplan los datos requeridos de analisis nutricional. Por lo que se quiere variar la cantidad de cada ingrediente para cumplir con los estandares nutricionales. Los requisitos que se tienen es que en 100 gramos, se deben tener por lo menos 8 gramos de proteína y 6 gramos de grasa. Así mismo, no se debe tener más de 2 gramos de fibra y 0.4 gramos de sal.  \n",
    "\n",
    "Los datos nutricionales se pueden obtener de la siguiente tabla:\n",
    "\n",
    "|Ingrediente|Proteína|Grasa|Fibra|Sal|\n",
    "|----|---- |---- |---- |---- |\n",
    "|Pollo|  10.0%|08.0%|00.1%|00.2%\n",
    "|Carne|  20.0%|10.0%|00.5%|00.5%\n",
    "|Cordero|15.0%|11.0%|00.5%|00.7%\n",
    "|Arroz|  00.0%|01.0%|10.0%|00.2%\n",
    "|Trigo|  04.0%|01.0%|15.0%|00.8%\n",
    "|Gel|    00.0%|00.0%|00.0%|00.0%\n",
    "\n",
    "Los costos de cada producto son:\n",
    "\n",
    "Ingrediente|Costo por gramo\n",
    ":----|----\n",
    "Pollo|$\\$$0.013\n",
    "Carne|$\\$$0.008\n",
    "Cordero|$\\$$0.010\n",
    "Arroz|$\\$$0.002\n",
    "Trigo|$\\$$0.005\n",
    "Gel|$\\$$0.001    \n",
    "\n",
    "Lo que se busca optimizar en este caso es la cantidad de productos que se debe utilizar en la comida de gato, para simplificar la notación se van a nombrar las siguientes variables: \n",
    "\n",
    "$x_1:$ Gramos de pollo  \n",
    "$x_2:$ Gramos de carne  \n",
    "$x_3:$ Gramos de cordero  \n",
    "$x_4:$ Gramos de arroz  \n",
    "$x_5:$ Gramos de trigo  \n",
    "$x_6:$ Gramos de gel  \n",
    "\n",
    "Con los datos, se puede plantear la función objetivo, está dada por la siguiente expresión:\n",
    "\n",
    "$$\\min 0.013 x_1 + 0.008 x_2 + 0.010 x_3 + 0.002 x_4 + 0.005 x_5 + 0.001 x_6$$\n",
    "\n",
    "Las restricciones estarían dadas por el siguiente conjunto de ecuaciones:\n",
    "\n",
    "$x_1+x_2+x_3+x_4+x_5+x_6=100$  \n",
    "\n",
    "$(10.0 x_1+ 20.0 x_2+ 15.0 x_3+ 00.0 x_4+ 04.0 x_5+ 00.0 x_6)/100 \\geq 8.0$  \n",
    "\n",
    "$(08.0 x_1+ 10.0 x_2+ 11.0 x_3+ 01.0 x_4+ 01.0 x_5+ 00.0 x_6)/100 \\geq 6.0$  \n",
    "\n",
    "$(00.1 x_1+ 00.5 x_2+ 00.5 x_3+ 10.0 x_4+ 15.0 x_5+ 00.0 x_6)/100 \\leq 2.0$  \n",
    "\n",
    "$(00.2 x_1+ 00.5 x_2+ 00.7 x_3+ 00.2 x_4+ 00.8 x_5+ 00.0 x_6)/100 \\leq 0.4$  \n",
    "\n",
    "La primer condición asegura que la cantidad de productos que se usará cumple con los 100 gramos. Las siguientes sólo siguen los lineamientos planteados para cumplir con los requisitos nutrimentales. "
   ]
  },
  {
   "cell_type": "code",
   "execution_count": null,
   "metadata": {},
   "outputs": [
    {
     "name": "stdout",
     "output_type": "stream",
     "text": [
      "Costo mínimo: 0.52\n",
      "Gramos de cada ingrediente [pollo, carne, cordero, arroz, trigo, gel]:\n",
      "[ 0. 60.  0.  0.  0. 40.]\n"
     ]
    }
   ],
   "source": [
    "import numpy as np\n",
    "from scipy import optimize as opt\n",
    "\n",
    "# costos\n",
    "c = np.array([0.013, 0.008, 0.010, 0.002, 0.005, 0.001])\n",
    "\n",
    "A_ineq = np.array([[1, 1, 1, 1, 1, 1]])\n",
    "b_ineq = np.array([100])\n",
    "\n",
    "# Restricciones\n",
    "A_ub = np.array([\n",
    "    [-0.10, -0.20, -0.15,  0.00, -0.04,  0.00],   # Proteina <= -8\n",
    "    [-0.08, -0.10, -0.11, -0.01, -0.01,  0.00],   # Grasa <= -6\n",
    "    [ 0.001, 0.005, 0.005, 0.10,  0.15,  0.00],   # Fibra <= 2\n",
    "    [ 0.002, 0.005, 0.007, 0.002, 0.008, 0.00]    # Sal <= 0.4\n",
    "])\n",
    "b_ub = np.array([-8, -6, 2, 0.4])\n",
    "\n",
    "\n",
    "bounds = [(0, None)] * 6\n",
    "\n",
    "solucion = opt.linprog(c, A_ub=A_ub, b_ub=b_ub, A_eq=A_ineq, b_eq=b_ineq,\n",
    "              bounds=bounds, method=\"highs\")\n",
    "\n",
    "print(\"Costo mínimo:\", solucion.fun)\n",
    "print(\"Gramos de cada ingrediente [pollo, carne, cordero, arroz, trigo, gel]:\")\n",
    "print(solucion.x)\n",
    "print(\"Algunos materiales no se utilizaron\")\n"
   ]
  },
  {
   "cell_type": "code",
   "execution_count": 66,
   "metadata": {},
   "outputs": [
    {
     "name": "stdout",
     "output_type": "stream",
     "text": [
      "========== Con la resstricción que tenga minimo 1 gramo de cada ingrediente ====================\n",
      "Costo mínimo: 0.5313\n",
      "Gramos de cada ingrediente [pollo, carne, cordero, arroz, trigo, gel]:\n",
      "[ 1.  57.9  1.   1.   1.  38.1]\n"
     ]
    }
   ],
   "source": [
    "print(f\"{\"==\"*5} Con la resstricción que tenga minimo 1 gramo de cada ingrediente {\"==\"*10}\")\n",
    "bounds = [(1, None)] * 6\n",
    "\n",
    "solucion = opt.linprog(c, A_ub=A_ub, b_ub=b_ub, A_eq=A_ineq, b_eq=b_ineq,\n",
    "              bounds=bounds, method=\"highs\")\n",
    "\n",
    "print(\"Costo mínimo:\", solucion.fun)\n",
    "print(\"Gramos de cada ingrediente [pollo, carne, cordero, arroz, trigo, gel]:\")\n",
    "print(solucion.x)"
   ]
  },
  {
   "cell_type": "markdown",
   "metadata": {},
   "source": [
    "### 2. Otro problema de transporte\n",
    "\n",
    "Supongamos que tenemos que enviar cajas de cervezas de 2 cervecerías (Modelo y Cuauhtémoc Moctezuma) a 5 bares de acuerdo al siguiente gráfico:\n",
    "\n",
    "<img style=\"float: center; margin: 0px 0px 15px 15px;\" src=\"https://relopezbriega.github.io/images/Trans_problem.png\" width=\"500px\" height=\"150px\" />\n",
    "\n",
    "Asimismo, supongamos que nuestro gerente financiero nos informa que el costo de transporte por caja de cada ruta se conforma de acuerdo a la siguiente tabla:"
   ]
  },
  {
   "cell_type": "code",
   "execution_count": 1,
   "metadata": {},
   "outputs": [
    {
     "data": {
      "text/html": [
       "<div>\n",
       "<style scoped>\n",
       "    .dataframe tbody tr th:only-of-type {\n",
       "        vertical-align: middle;\n",
       "    }\n",
       "\n",
       "    .dataframe tbody tr th {\n",
       "        vertical-align: top;\n",
       "    }\n",
       "\n",
       "    .dataframe thead th {\n",
       "        text-align: right;\n",
       "    }\n",
       "</style>\n",
       "<table border=\"1\" class=\"dataframe\">\n",
       "  <thead>\n",
       "    <tr style=\"text-align: right;\">\n",
       "      <th></th>\n",
       "      <th>Bar1</th>\n",
       "      <th>Bar2</th>\n",
       "      <th>Bar3</th>\n",
       "      <th>Bar4</th>\n",
       "      <th>Bar5</th>\n",
       "    </tr>\n",
       "  </thead>\n",
       "  <tbody>\n",
       "    <tr>\n",
       "      <th>CerveceriaA</th>\n",
       "      <td>2</td>\n",
       "      <td>4</td>\n",
       "      <td>5</td>\n",
       "      <td>2</td>\n",
       "      <td>1</td>\n",
       "    </tr>\n",
       "    <tr>\n",
       "      <th>CerveceriaB</th>\n",
       "      <td>3</td>\n",
       "      <td>1</td>\n",
       "      <td>3</td>\n",
       "      <td>2</td>\n",
       "      <td>3</td>\n",
       "    </tr>\n",
       "  </tbody>\n",
       "</table>\n",
       "</div>"
      ],
      "text/plain": [
       "             Bar1  Bar2  Bar3  Bar4  Bar5\n",
       "CerveceriaA     2     4     5     2     1\n",
       "CerveceriaB     3     1     3     2     3"
      ]
     },
     "execution_count": 1,
     "metadata": {},
     "output_type": "execute_result"
    }
   ],
   "source": [
    "#Crear dataframe\n",
    "import pandas as pd\n",
    "info = pd.DataFrame({'Bar1': [2, 3], 'Bar2': [4, 1], 'Bar3': [5, 3], 'Bar4': [2, 2], 'Bar5': [1, 3]},\n",
    "                     index = ['CerveceriaA', 'CerveceriaB'])\n",
    "info"
   ]
  },
  {
   "cell_type": "markdown",
   "metadata": {},
   "source": [
    "Y por último, las restricciones del problema, van a estar dadas por las capacidades de oferta y demanda de cada cervecería (en cajas de cerveza) y cada bar, las cuales se detallan en el gráfico de más arriba.\n",
    "\n",
    "Sean:\n",
    "- $x_i$ cajas transportadas de la cervecería A al Bar $i$,\n",
    "- $x_{i+5}$ cajas transportadas de la cervecería B al Bar $i$.\n",
    "\n",
    "Plantear el problema de minimizar el costo de transporte de la forma vista y resolverlo con `linprog`. \n",
    "\n"
   ]
  },
  {
   "cell_type": "code",
   "execution_count": 59,
   "metadata": {},
   "outputs": [
    {
     "name": "stdout",
     "output_type": "stream",
     "text": [
      "==================== Restricciones de consumo ====================\n",
      "xA1 + xB1 = 500\n",
      "xA2 + xB2 = 900\n",
      "xA3 + xB3 = 1800\n",
      "xA4 + xB4 = 200\n",
      "xA5 + xB5 = 700\n",
      "==================== Restricciones de producción ====================\n",
      "xA1 + xA2 + xA3 + xA4 + xA5 ≤ 1000\n",
      "xB1 + xB2 + xB3 + xB4 + xB5 ≤ 4000\n",
      "==================== Función objetivo ====================\n",
      "min = 2xA1 + 4xA2 + 5xA3 + 2xA4 + 1xA5 + 3xB1 + 1xB2 + 3xB3 + 2xB4 + 3xB5\n"
     ]
    }
   ],
   "source": [
    "import numpy as np\n",
    "from scipy import optimize as opt\n",
    "\n",
    "print(f\"{\"==\"*10} Restricciones de consumo {\"==\"*10}\")\n",
    "print(\"xA1 + xB1 = 500\")\n",
    "print(\"xA2 + xB2 = 900\")\n",
    "print(\"xA3 + xB3 = 1800\")\n",
    "print(\"xA4 + xB4 = 200\")\n",
    "print(\"xA5 + xB5 = 700\")\n",
    "\n",
    "A_ineq = np.array([\n",
    "    [1,0,0,0,0, 1,0,0,0,0],\n",
    "    [0,1,0,0,0, 0,1,0,0,0],\n",
    "    [0,0,1,0,0, 0,0,1,0,0],\n",
    "    [0,0,0,1,0, 0,0,0,1,0],\n",
    "    [0,0,0,0,1, 0,0,0,0,1],\n",
    "])\n",
    "\n",
    "b_ineq = np.array([500,900,1800,200,700])\n",
    "\n",
    "print(f\"{\"==\"*10} Restricciones de producción {\"==\"*10}\")\n",
    "print(\"xA1 + xA2 + xA3 + xA4 + xA5 ≤ 1000\")\n",
    "print(\"xB1 + xB2 + xB3 + xB4 + xB5 ≤ 4000\")\n",
    "A_ub = np.array([\n",
    "    [1,1,1,1,1, 0,0,0,0,0],\n",
    "    [0,0,0,0,0, 1,1,1,1,1],\n",
    "])\n",
    "\n",
    "print(f\"{\"==\"*10} Función objetivo {\"==\"*10}\")\n",
    "print(\"min = 2xA1 + 4xA2 + 5xA3 + 2xA4 + 1xA5 + 3xB1 + 1xB2 + 3xB3 + 2xB4 + 3xB5\")\n",
    "c = np.array([2,4,5,2,1, 3,1,3,2,3])\n",
    "\n",
    "b_ub = np.array([1000,4000])\n",
    "\n"
   ]
  },
  {
   "cell_type": "code",
   "execution_count": 60,
   "metadata": {},
   "outputs": [
    {
     "data": {
      "text/plain": [
       "        message: Optimization terminated successfully. (HiGHS Status 7: Optimal)\n",
       "        success: True\n",
       "         status: 0\n",
       "            fun: 8600.0\n",
       "              x: [ 3.000e+02  0.000e+00  0.000e+00  0.000e+00  7.000e+02\n",
       "                   2.000e+02  9.000e+02  1.800e+03  2.000e+02  0.000e+00]\n",
       "            nit: 1\n",
       "          lower:  residual: [ 3.000e+02  0.000e+00  0.000e+00  0.000e+00\n",
       "                              7.000e+02  2.000e+02  9.000e+02  1.800e+03\n",
       "                              2.000e+02  0.000e+00]\n",
       "                 marginals: [ 0.000e+00  4.000e+00  3.000e+00  1.000e+00\n",
       "                              0.000e+00  0.000e+00  0.000e+00  0.000e+00\n",
       "                              0.000e+00  1.000e+00]\n",
       "          upper:  residual: [       inf        inf        inf        inf\n",
       "                                    inf        inf        inf        inf\n",
       "                                    inf        inf]\n",
       "                 marginals: [ 0.000e+00  0.000e+00  0.000e+00  0.000e+00\n",
       "                              0.000e+00  0.000e+00  0.000e+00  0.000e+00\n",
       "                              0.000e+00  0.000e+00]\n",
       "          eqlin:  residual: [ 0.000e+00  0.000e+00  0.000e+00  0.000e+00\n",
       "                              0.000e+00]\n",
       "                 marginals: [ 3.000e+00  1.000e+00  3.000e+00  2.000e+00\n",
       "                              2.000e+00]\n",
       "        ineqlin:  residual: [ 0.000e+00  9.000e+02]\n",
       "                 marginals: [-1.000e+00 -0.000e+00]\n",
       " mip_node_count: 0\n",
       " mip_dual_bound: 0.0\n",
       "        mip_gap: 0.0"
      ]
     },
     "execution_count": 60,
     "metadata": {},
     "output_type": "execute_result"
    }
   ],
   "source": [
    "bnds = ((0,None),)*10\n",
    "\n",
    "solucion = opt.linprog(c, A_ub=A_ub, b_ub=b_ub, A_eq=A_ineq, b_eq=b_ineq, bounds=bnds)\n",
    "solucion"
   ]
  },
  {
   "cell_type": "code",
   "execution_count": 61,
   "metadata": {},
   "outputs": [
    {
     "data": {
      "text/plain": [
       "array([ 300.,    0.,    0.,    0.,  700.,  200.,  900., 1800.,  200.,\n",
       "          0.])"
      ]
     },
     "execution_count": 61,
     "metadata": {},
     "output_type": "execute_result"
    }
   ],
   "source": [
    "x_min = solucion.x\n",
    "np.round(x_min)"
   ]
  },
  {
   "cell_type": "code",
   "execution_count": 62,
   "metadata": {},
   "outputs": [
    {
     "name": "stdout",
     "output_type": "stream",
     "text": [
      "La producción total es de 5000 y la demanda es de 4100.0, existe un exedente de producción\n",
      "Costo mínimo: 8600.0\n",
      "Envios de A y B a cada bar:\n",
      "A:[300.   0.   0.   0. 700.]\n",
      "B:[ 200.  900. 1800.  200.    0.]\n"
     ]
    }
   ],
   "source": [
    "c.T.dot(x_min)\n",
    "envios=solucion.x.reshape(2, 5)\n",
    "print(f\"La producción total es de {b_ub.sum()} y la demanda es de {solucion.x.sum()}, existe un exedente de producción\")\n",
    "print(\"Costo mínimo:\", solucion.fun)\n",
    "print(\"Envios de A y B a cada bar:\")\n",
    "print(f\"A:{envios[0]}\")\n",
    "print(f\"B:{envios[1]}\")\n"
   ]
  }
 ],
 "metadata": {
  "kernelspec": {
   "display_name": "Python 3",
   "language": "python",
   "name": "python3"
  },
  "language_info": {
   "codemirror_mode": {
    "name": "ipython",
    "version": 3
   },
   "file_extension": ".py",
   "mimetype": "text/x-python",
   "name": "python",
   "nbconvert_exporter": "python",
   "pygments_lexer": "ipython3",
   "version": "3.13.3"
  }
 },
 "nbformat": 4,
 "nbformat_minor": 4
}
