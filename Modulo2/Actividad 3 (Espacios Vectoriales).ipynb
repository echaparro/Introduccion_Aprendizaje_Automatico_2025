{
 "cells": [
  {
   "cell_type": "markdown",
   "metadata": {},
   "source": [
    "<img style=\"float: left;;\" src='Figures/alinco.png' /></a>\n",
    "    \n",
    "# <center> <font color= #000047> Actividad 2: Espacios Vectoriales ( Ejercicios )</font>\n",
    "___\n",
    "\n"
   ]
  },
  {
   "cell_type": "markdown",
   "metadata": {},
   "source": [
    "## Espacios vectoriales\n",
    "\n",
    "Un [espacio vectorial](https://es.wikipedia.org/wiki/Espacio_vectorial), $V$, sobre un <a href=\"https://es.wikipedia.org/wiki/Cuerpo_(matem%C3%A1ticas)\">Campo</a>, $F$,  va a ser un [conjunto](http://relopezbriega.github.io/blog/2015/10/11/conjuntos-con-python/) en el que están definidas las operaciones de *<a href=\"https://es.wikipedia.org/wiki/Adici%C3%B3n_(matem%C3%A1ticas)\">adición</a>* y  *multiplicación por <a href=\"http://es.wikipedia.org/wiki/Escalar_(matem%C3%A1tica)\">escalares</a>*, tal que para cualquier par de elementos $x$ e $y$ en $V$, existe un elemento único $x + y$ en $V$, y para cada elemento $\\alpha$ en $F$ y cada elemento $x$ en $V$, exista un único elemento $\\alpha x$ en $V$, de manera que se cumplan las siguientes condiciones:\n",
    "\n",
    "1. Para todo $x, y$ en $V$, $x + y = y + x$ ([conmutatividad](https://es.wikipedia.org/wiki/Conmutatividad) de la adición).\n",
    "\n",
    "2. Para todo $x, y, z$ en $V$, $(x + y) + z = x + (y + z)$. (<a href=\"https://es.wikipedia.org/wiki/Asociatividad_(%C3%A1lgebra)\">asociatividad</a> de la adición).\n",
    "\n",
    "3. Existe un elemento en $V$ llamado $0$ tal que $x + 0 = x$ para todo $x$ en $V$.\n",
    "\n",
    "4. Para cada elemento $x$ en $V$, existe un elemento $y$ en $V$ tal que $x + y = 0$.\n",
    "\n",
    "5. Para cada elemento $x$ en $V$, $1 x = x$.\n",
    "\n",
    "6. Para cada par, $\\alpha, \\beta$ en $F$ y cada elemento $x$ en $V$, $(\\alpha \\beta) x = \\alpha (\\beta x)$.\n",
    "\n",
    "7. Para cada elemento $\\alpha$ en $F$ y cada para de elementos $x, y$ en $V$, $\\alpha(x + y) = \\alpha x + \\alpha y$.\n",
    "\n",
    "8. Para cada par de elementos $\\alpha, \\beta$ en $F$ y cada elemento $x$ en $V$, $(\\alpha +  \\beta)x = \\alpha x + \\beta x$.\n",
    "\n",
    "Los [espacios vectoriales](https://es.wikipedia.org/wiki/Espacio_vectorial) más comunes son $\\mathbb{R}^2$, el cual representa el plano de 2 dimensiones y consiste de todos los pares ordenados de los [números reales](https://es.wikipedia.org/wiki/N%C3%BAmero_real):\n",
    "\n",
    "$$\\mathbb{R}^2 = \\{(x, y): x, y \\in \\mathbb{R}\\}$$\n",
    "\n",
    "y $\\mathbb{R}^3$, que representa el espacio ordinario de 3 dimensiones y consiste en todos los tríos ordenados de los  [números reales](https://es.wikipedia.org/wiki/N%C3%BAmero_real):\n",
    "\n",
    "$$\\mathbb{R}^3 = \\{(x, y, z): x, y, z \\in \\mathbb{R}\\}$$\n",
    "\n",
    "Una de las grandes bellezas del [Álgebra lineal](http://relopezbriega.github.io/tag/algebra.html) es que podemos fácilmente pasar a trabajar sobre espacios de $n$ dimensiones, $\\mathbb{R}^n$!\n",
    "\n",
    "Tampoco tenemos porque quedarnos con solo los [números reales](https://es.wikipedia.org/wiki/N%C3%BAmero_real), ya que la definición que dimos de un [espacio vectorial](https://es.wikipedia.org/wiki/Espacio_vectorial) reside sobre un <a href=\"https://es.wikipedia.org/wiki/Cuerpo_(matem%C3%A1ticas)\">Campo</a>; y los <a href=\"https://es.wikipedia.org/wiki/Cuerpo_(matem%C3%A1ticas)\">campos</a> pueden estar representados por [números complejos](http://relopezbriega.github.io/blog/2015/10/12/numeros-complejos-con-python/). Por tanto también podemos tener [espacios vectoriales](https://es.wikipedia.org/wiki/Espacio_vectorial)  $\\mathbb{C}^2, \\mathbb{C}^3, \\dots, \\mathbb{C}^n$.\n",
    "\n",
    "### Subespacios\n",
    "\n",
    "Normalmente, en el estudio de cualquier estructura algebraica es interesante examinar subconjuntos que tengan la misma estructura que el [conjunto](http://relopezbriega.github.io/blog/2015/10/11/conjuntos-con-python/) que esta siendo considerado. Así, dentro de los [espacios vectoriales](https://es.wikipedia.org/wiki/Espacio_vectorial),  podemos tener [subespacios vectoriales](https://es.wikipedia.org/wiki/Subespacio_vectorial), los cuales son un subconjunto que cumplen con las mismas *propiedades* que el [espacio vectorial](https://es.wikipedia.org/wiki/Espacio_vectorial) que los contiene. De esta forma, $\\mathbb{R}^3$ representa un [subespacio](https://es.wikipedia.org/wiki/Subespacio_vectorial) del [espacio vectorial](https://es.wikipedia.org/wiki/Espacio_vectorial) $\\mathbb{R}^n$.\n",
    "\n"
   ]
  },
  {
   "cell_type": "markdown",
   "metadata": {},
   "source": [
    "## Ejercicios:\n",
    "\n",
    "<div class=\"alert alert-info\"><strong>NOTA:</strong> \n",
    "Pueden adjuntar archivos word, jpg, pdf, etc.., para la solución de cada uno de los ejercicios</div>\n",
    "\n",
    "\n",
    "**1.- Probar si el conjunto de matrices:**\n",
    "\n",
    "$$\\begin{Bmatrix} \\begin{pmatrix}1 & \\alpha\\\\ \\beta & 1 \\end{pmatrix} : \\alpha, \\beta \\in \\mathcal{R} \\end{Bmatrix}$$\n",
    "\n",
    "**es un espacio vectorial con su suma y producto usuales. Si no lo es, enunciar la serie de axiomas que no se satisfacen.**"
   ]
  },
  {
   "cell_type": "code",
   "execution_count": 124,
   "metadata": {},
   "outputs": [
    {
     "name": "stdout",
     "output_type": "stream",
     "text": [
      "A = Matrix([[1, A1], [B1, 1]])\n",
      "B = Matrix([[1, A2], [B2, 1]])\n",
      "B = Matrix([[1, A3], [B3, 1]])\n",
      "Escalar alpha = 2, beta =3\n",
      "1. Cerradura bajo la suma: A + B = Matrix([[2, A1 + A2], [B1 + B2, 2]]), False\n",
      "2. Cerradura bajo producto por escalar alpha * A =Matrix([[2, 2*A1], [2*B1, 2]]), False\n",
      "3. Asociatividad de la suma (A+B) +C = A+(B+C) Matrix([[3, A1 + A2 + A3], [B1 + B2 + B3, 3]]) = Matrix([[3, A1 + A2 + A3], [B1 + B2 + B3, 3]]) -> El resultado de sale del conjunto\n",
      "4. Conmutividad de la suma A+B= B+A Matrix([[2, A1 + A2], [B1 + B2, 2]]) = Matrix([[2, A1 + A2], [B1 + B2, 2]]) -> el resultado de sale del conjunto\n",
      "5. Elemento neutro en la suma 0 + A = A ->Matrix([[0, 0], [0, 0]])- El elemento neutro 0 no pertenece al conjunto\n",
      "6. Inverso aditivo   A +(-A)=0  -> Matrix([[-1, -A1], [-B1, -1]])  -A no pertenece al conjunto\n",
      "7. Asociatividad  por un escalar (alpha * beta)*A = alpha*(beta *A) Matrix([[6, 6*A1], [6*B1, 6]]) = Matrix([[6, 6*A1], [6*B1, 6]]) -> No pertenece al conjunto\n",
      "8. Elemento neutro del producto por escalar 1*A = A Matrix([[1, A1], [B1, 1]]) = Matrix([[1, A1], [B1, 1]]) -> True\n",
      "9. Distributividad del producto respecto a la suma de matrices alpha(A+B) = alpha*A + alpha*B Matrix([[4, 2*A1 + 2*A2], [2*B1 + 2*B2, 4]]) = Matrix([[4, 2*A1 + 2*A2], [2*B1 + 2*B2, 4]]) No aplica por el punto 1 -> False\n",
      "10. Distributividad sobre la suma de escalares (alpha+beta)A = alpha*A + beta*A Matrix([[5, 5*A1], [5*B1, 5]]) = Matrix([[5, 5*A1], [5*B1, 5]]) -> No aplica por el punto 2\n",
      "De los 10 Axiomas solo se cumple -Elemento neutro de la suma, no es un espacio vectorial\n"
     ]
    }
   ],
   "source": [
    "import numpy as np\n",
    "import sympy as sym\n",
    "\n",
    "A =sym.Matrix( ((1, \"A1\"), (\"B1\", 1)) ) \n",
    "B = sym.Matrix( ((1, \"A2\"), (\"B2\", 1)) ) \n",
    "C = sym.Matrix( ((1, \"A3\"), (\"B3\", 1)) ) \n",
    "\n",
    "print(f\"A = {A}\")\n",
    "print(f\"B = {B}\")\n",
    "print(f\"B = {C}\")\n",
    "\n",
    "alpha =2\n",
    "beta =3\n",
    "print(f\"Escalar alpha = {alpha}, beta ={beta}\")\n",
    "\n",
    "#1.- Cerradura bajo la suma --No Cumple, tendria que ser tambien 1 en la posicion (0,0) y (1,1)\n",
    "suma = A + B\n",
    "print(f\"1. Cerradura bajo la suma: A + B = {suma}, {suma[0,0] == 1}\" )\n",
    "\n",
    "# 2. Cerradura bajo producto por escalar --No cumnple tendria que ser tambien 1 en la posicion (0,0) y (1,1)\n",
    "producto =alpha * A\n",
    "print(f\"2. Cerradura bajo producto por escalar alpha * A ={producto}, {producto[0,0] == 1}\")\n",
    "\n",
    "# 3. Asociatividad de la suma\n",
    "res1= (A+B) +C \n",
    "res2=A+(B+C)\n",
    "print(f\"3. Asociatividad de la suma (A+B) +C = A+(B+C) {res1} = {res2} -> El resultado de sale del conjunto\")\n",
    "\n",
    "# 4. Conmutividad de la suma\n",
    "res1= A+B\n",
    "res2= B+A\n",
    "print(f\"4. Conmutividad de la suma A+B= B+A {res1} = {res2} -> el resultado de sale del conjunto\")\n",
    "\n",
    "# 5. Elemento neutro de la suma No pertenece porque el elemento neutro [0,0  0,0] no pertenece al conjunto\n",
    "cero =sym.zeros(2, 2) \n",
    "print(f\"5. Elemento neutro en la suma 0 + A = A ->{cero}- El elemento neutro 0 no pertenece al conjunto\")\n",
    "\n",
    "# 6. Inverso aditivo  --No pertenece, el -A no esta dentro del conjunto\n",
    "print(f\"6. Inverso aditivo   A +(-A)=0  -> { -A}  -A no pertenece al conjunto\")\n",
    "\n",
    "#7. Asociatividad  por un escalar\n",
    "\n",
    "res1 = (alpha * beta) * A\n",
    "res2 = alpha * (beta * A)\n",
    "print(f\"7. Asociatividad  por un escalar (alpha * beta)*A = alpha*(beta *A) {res1} = {res2} -> No pertenece al conjunto\")\n",
    "\n",
    "#8. Elemento neutro del producto por escalar\n",
    "print(f\"8. Elemento neutro del producto por escalar 1*A = A {1*A} = {A} -> {np.array_equal(1*A, A) }\")\n",
    "\n",
    "#9. Distributividad del producto respecto a la suma de matrices\n",
    "res1=alpha*(A+B)\n",
    "res2=alpha*A + alpha*B\n",
    "print(f\"9. Distributividad del producto respecto a la suma de matrices alpha(A+B) = alpha*A + alpha*B {res1} = {res2} No aplica por el punto 1 -> {res2[0,0] == 1}\")\n",
    "\n",
    "#10. Distributividad sobre la suma de escalares\n",
    "res1=(alpha + beta) * A\n",
    "res2= alpha * A + beta * A\n",
    "print(f\"10. Distributividad sobre la suma de escalares (alpha+beta)A = alpha*A + beta*A {res1} = {res2} -> No aplica por el punto 2\")\n",
    "\n",
    "\n",
    "print(\"De los 10 Axiomas solo se cumple -Elemento neutro de la suma, no es un espacio vectorial\")"
   ]
  },
  {
   "cell_type": "code",
   "execution_count": null,
   "metadata": {},
   "outputs": [],
   "source": []
  },
  {
   "cell_type": "markdown",
   "metadata": {},
   "source": [
    "**2.- Sea $V=\\mathcal{R}^2$. Determinar si el conjunto:**\n",
    "\n",
    "$$ H=\\left\\{(x,y): x^2+y^2 \\leq 1 \\right\\}$$\n",
    "\n",
    "**es un subespacio de V.**"
   ]
  },
  {
   "cell_type": "code",
   "execution_count": 10,
   "metadata": {},
   "outputs": [
    {
     "name": "stdout",
     "output_type": "stream",
     "text": [
      "1. vector 0 en H [0 0] -> True\n",
      "1. vector A+B en H  [1 1] ->  False\n",
      "1. vector por un escalar 2*B en H [2 0] ->  False\n"
     ]
    }
   ],
   "source": [
    "def inH(x,y):\n",
    "    return x**2 + y**2 <=1\n",
    "\n",
    "\n",
    "#Vector 0  [0, 0]\n",
    "cero = np.array([0, 0])\n",
    "print(f\"1. vector 0 en H {cero} -> {inH(cero[0], cero[1])}\")\n",
    "\n",
    "#Bajo la suma\n",
    "A = np.array([1, 0])\n",
    "B = np.array([0, 1])\n",
    "C = A + B\n",
    "\n",
    "print(f\"1. vector A+B en H  {C} ->  {inH(C[0], C[1])}\")\n",
    "\n",
    "#Bajo la multiplicación por un escalar\n",
    "A = np.array([1, 0]) \n",
    "B =2*A\n",
    "\n",
    "print(f\"1. vector por un escalar 2*B en H {B} ->  {inH(B[0], B[1])}\")\n",
    "\n",
    "#No cumple que este dentro de la suma ni la multiplicación por un escalar, no es un subespacio vectorial de R^2\n",
    "\n"
   ]
  },
  {
   "cell_type": "markdown",
   "metadata": {},
   "source": [
    "**3.- Sea que $P_n$ defina el conjunto de todos los polinomios de grado menor que $n$, se definen las operaciones de suma y multiplicación por un escalar como:**\n",
    "\n",
    "$$( p  + q )( x ) = p ( x ) + q ( x )$$\n",
    "$$( \\alpha p )( x ) = \\alpha p ( x )$$\n",
    "\n",
    "**para todos los números reales x . Verificar si $P_n$ es un espacio vectorial.**"
   ]
  },
  {
   "cell_type": "code",
   "execution_count": null,
   "metadata": {},
   "outputs": [],
   "source": []
  },
  {
   "cell_type": "markdown",
   "metadata": {},
   "source": [
    "**4.- Considere el conjunto $M_{2x2}$ de las matrices de $(2x2)$ y las operaciones convencionales de suma de matrices y producto de una matriz por un escalar. Verificar que este conjunto cumple con los 10 axiomas para ser un espacio vectorial.**"
   ]
  },
  {
   "cell_type": "code",
   "execution_count": 101,
   "metadata": {},
   "outputs": [
    {
     "name": "stdout",
     "output_type": "stream",
     "text": [
      "A = Matrix([[74, 57], [82, 61]])\n",
      "B = Matrix([[42, 58], [97, 91]])\n",
      "C = Matrix([[60, 69], [55, 91]])\n",
      "Escalar alpha = 2, beta =3\n",
      "1. Cerradura bajo la suma: A + B =Matrix([[116, 115], [179, 152]]), (2, 2)\n",
      "2. Cerradura bajo producto por escalar alpha * A =Matrix([[148, 114], [164, 122]]), (2, 2)\n",
      "3. Asociatividad de la suma (A+B) +C = A+(B+C) Matrix([[176, 184], [234, 243]]) = Matrix([[176, 184], [234, 243]]) -> True\n",
      "4. Conmutividad de la suma A+B= B+A Matrix([[116, 115], [179, 152]]) = Matrix([[116, 115], [179, 152]]) -> True\n",
      "5. Elemento neutro en la suma 0 + A = A ->Matrix([[0, 0], [0, 0]]) + Matrix([[74, 57], [82, 61]]) = Matrix([[74, 57], [82, 61]])\n",
      "6. Inverso aditivo   A +(-A)=0 Matrix([[74, 57], [82, 61]]) + Matrix([[-74, -57], [-82, -61]]) =Matrix([[0, 0], [0, 0]]) -> True\n",
      "7. Asociatividad  por un escalar (alpha * beta)*A = alpha*(beta *A) Matrix([[444, 342], [492, 366]]) = Matrix([[444, 342], [492, 366]]) -> True\n",
      "8. Elemento neutro del producto por escalar 1*A = A Matrix([[74, 57], [82, 61]]) = Matrix([[74, 57], [82, 61]]) -> True\n",
      "9. Distributividad del producto respecto a la suma de matrices alpha(A+B) = alpha*A + alpha*B Matrix([[232, 230], [358, 304]]) = Matrix([[232, 230], [358, 304]]) -> True\n",
      "10. Distributividad sobre la suma de escalares (alpha+beta)A = alpha*A + beta*A Matrix([[370, 285], [410, 305]]) = Matrix([[370, 285], [410, 305]]) -> True\n",
      "SE CUMPLEN TODOS LOS AXIOMAS, EL CONJUNTO M2x2 ES UN ESPACIO VECTORIAL.\n"
     ]
    }
   ],
   "source": [
    "import sympy as sym\n",
    "A = sym.randMatrix(2, 2, min=0, max=101)\n",
    "B = sym.randMatrix(2, 2, min=0, max=101)\n",
    "C = sym.randMatrix(2, 2, min=0, max=101)\n",
    "\n",
    "print(f\"A = {A}\")\n",
    "print(f\"B = {B}\")\n",
    "print(f\"C = {C}\")\n",
    "\n",
    "alpha =2\n",
    "beta =3\n",
    "print(f\"Escalar alpha = {alpha}, beta ={beta}\")\n",
    "#1.- Cerradura bajo la suma\n",
    "suma = A + B\n",
    "print(f\"1. Cerradura bajo la suma: A + B ={suma}, {suma.shape}\")\n",
    "\n",
    "# 2. Cerradura bajo producto por escalar\n",
    "producto =alpha * A\n",
    "print(f\"2. Cerradura bajo producto por escalar alpha * A ={producto}, {producto.shape}\")\n",
    "\n",
    "# 3. Asociatividad de la suma\n",
    "res1= (A+B) +C \n",
    "res2=A+(B+C)\n",
    "print(f\"3. Asociatividad de la suma (A+B) +C = A+(B+C) {res1} = {res2} -> {np.array_equal(res1,res2)}\")\n",
    "\n",
    "# 4. Conmutividad de la suma\n",
    "res1= A+B\n",
    "res2= B+A\n",
    "print(f\"4. Conmutividad de la suma A+B= B+A {res1} = {res2} -> {np.array_equal(res1,res2)}\")\n",
    "\n",
    "# 5. Elemento neutro de la suma\n",
    "cero =sym.zeros(2, 2) \n",
    "print(f\"5. Elemento neutro en la suma 0 + A = A ->{cero} + {A} = {cero +A }\")\n",
    "\n",
    "# 6. Inverso aditivo\n",
    "print(f\"6. Inverso aditivo   A +(-A)=0 { A} + {-A} ={ A+(-A)} -> { np.array_equal(A+(-A), cero)}\")\n",
    "\n",
    "#7. Asociatividad  por un escalar\n",
    "res1 = (alpha * beta) * A\n",
    "res2 = alpha * (beta * A)\n",
    "print(f\"7. Asociatividad  por un escalar (alpha * beta)*A = alpha*(beta *A) {res1} = {res2} -> {np.array_equal(res1, res2) }\")\n",
    "\n",
    "#8. Elemento neutro del producto por escalar\n",
    "print(f\"8. Elemento neutro del producto por escalar 1*A = A {1*A} = {A} -> {np.array_equal(1*A, A) }\")\n",
    "\n",
    "#9. Distributividad del producto respecto a la suma de matrices\n",
    "res1=alpha*(A+B)\n",
    "res2=alpha*A + alpha*B\n",
    "print(f\"9. Distributividad del producto respecto a la suma de matrices alpha(A+B) = alpha*A + alpha*B {res1} = {res2} -> {np.array_equal(res1, res2) }\")\n",
    "\n",
    "#10. Distributividad sobre la suma de escalares\n",
    "res1=(alpha + beta) * A\n",
    "res2= alpha * A + beta * A\n",
    "print(f\"10. Distributividad sobre la suma de escalares (alpha+beta)A = alpha*A + beta*A {res1} = {res2} -> {np.array_equal(res1, res2) }\")\n",
    "\n",
    "print(\"SE CUMPLEN TODOS LOS AXIOMAS, EL CONJUNTO M2x2 ES UN ESPACIO VECTORIAL.\")"
   ]
  }
 ],
 "metadata": {
  "kernelspec": {
   "display_name": "Python 3",
   "language": "python",
   "name": "python3"
  },
  "language_info": {
   "codemirror_mode": {
    "name": "ipython",
    "version": 3
   },
   "file_extension": ".py",
   "mimetype": "text/x-python",
   "name": "python",
   "nbconvert_exporter": "python",
   "pygments_lexer": "ipython3",
   "version": "3.13.3"
  }
 },
 "nbformat": 4,
 "nbformat_minor": 4
}
