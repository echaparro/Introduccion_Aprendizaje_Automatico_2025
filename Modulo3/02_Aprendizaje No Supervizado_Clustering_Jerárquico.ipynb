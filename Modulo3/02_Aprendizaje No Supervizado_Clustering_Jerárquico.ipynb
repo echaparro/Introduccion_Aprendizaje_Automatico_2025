{
 "cells": [
  {
   "cell_type": "markdown",
   "metadata": {},
   "source": [
    "<img style=\"float: left;;\" src='Figures/alinco.png' /></a>\n",
    "    \n",
    "# <center> <font color= #000047> Módulo III: Aprendizaje No supervizado: Clustering\n",
    "\n"
   ]
  },
  {
   "cell_type": "markdown",
   "metadata": {},
   "source": [
    "# Clustering"
   ]
  },
  {
   "cell_type": "markdown",
   "metadata": {},
   "source": [
    "> Se le llama “clustering” a la formación de grupos o agrupaciones entre\n",
    "muestras o entre variables.\n",
    "\n",
    "> Los “clusters” son formados por datos que cumplen una condición de\n",
    "agrupación definida en función de algún índice de similitud.\n",
    "\n",
    "> Los agrupamientos no siempre serán los mismos, ya que depende del tipo de\n",
    "dato y también depende del tipo de índice de similitud.\n",
    "\n",
    "> El “Herarchical Clustering” es un algoritmo exhaustivo que realiza la\n",
    "comparación de todos los datos contra todos. Además es clasificado como un\n",
    "algoritmo no supervisado, porque no se conoce de antemano los resultados\n",
    "del proceso de “clustering”."
   ]
  },
  {
   "cell_type": "markdown",
   "metadata": {},
   "source": [
    "<div class=\"alert alert-danger\" style=\"margin: 10px\">Diapos.</div>"
   ]
  },
  {
   "cell_type": "markdown",
   "metadata": {},
   "source": [
    "> Las variables más similares son usadas para crear un cluster o grupo.\n",
    "\n",
    "> Esto equivale a crear una nueva muestra o nueva variable combinando las similitudes de los pares más similares.\n",
    "> El criterio más usado es el llamado “complete linkage”.\n",
    "\n",
    "> Este criterio se basa en crear una nueva muestra o variables eligiendo la máxima similitud del par similar contra los demás datos."
   ]
  },
  {
   "cell_type": "markdown",
   "metadata": {},
   "source": [
    "## Métodos de Aglomeración\n",
    "\n",
    "|Método               |                         | \n",
    "|:-------------------:|:------------------------------------------|\n",
    "|**Complete**             | $d(u,v) = \\max(d(u[i],k[i]),d(v[i],k[i]))$ |\n",
    "|**Single**               | $d(u,v) = \\min(d(u[i],k[i]),d(v[i],k[i]))$ |\n",
    "|**Average**              | $d(u,v) = \\frac{n_u d(u[i],k[i]) + n_v d(v[i],k[i])}{n_u + n_v}$|\n",
    "|**Centroid**             | $d(u,v) = ||c_u - c_v ||_2 = \\sqrt(\\frac{n_u d(u[i],k[i]) + n_v d(v[i],k[i])}{n_u + n_v} - \\frac{n_u n_v d(u[i],v[i])}{(n_u + n_v)^2})$                      |\n",
    "|**Ward**                 | $d(u,v) = \\sqrt(\\frac{n_u d(u[i],k[i]) + (n_v + n_k) d(v[i],k[i]) - n_k d(u[i],v[i])}{n_u + n_v + n_k})$                      |\n",
    "\n"
   ]
  },
  {
   "cell_type": "markdown",
   "metadata": {},
   "source": [
    "## Ejemplo de Clustering Jerárquico"
   ]
  },
  {
   "cell_type": "code",
   "execution_count": 1,
   "metadata": {},
   "outputs": [],
   "source": [
    "import numpy as np\n",
    "import pandas as pd\n",
    "from matplotlib import pyplot as plt\n"
   ]
  },
  {
   "cell_type": "code",
   "execution_count": 2,
   "metadata": {},
   "outputs": [],
   "source": [
    "import scipy.spatial.distance as sc\n",
    "from scipy.cluster import hierarchy"
   ]
  },
  {
   "cell_type": "code",
   "execution_count": 3,
   "metadata": {},
   "outputs": [],
   "source": [
    "#Aplicar el clustering jerárquico\n",
    "\n",
    "a = np.random.multivariate_normal([10,10],[[3,0],[0,3]], size=100)\n",
    "b = np.random.multivariate_normal([0,20],[[3,0],[0,3]], size=100)\n",
    "c = np.random.multivariate_normal([20,20],[[3,0],[0,3]], size=100)"
   ]
  },
  {
   "cell_type": "code",
   "execution_count": 4,
   "metadata": {},
   "outputs": [
    {
     "data": {
      "text/plain": [
       "((100, 2), (100, 2), (100, 2))"
      ]
     },
     "execution_count": 4,
     "metadata": {},
     "output_type": "execute_result"
    }
   ],
   "source": [
    "c.shape, b.shape, c.shape"
   ]
  },
  {
   "cell_type": "code",
   "execution_count": 5,
   "metadata": {
    "scrolled": true
   },
   "outputs": [
    {
     "data": {
      "text/plain": [
       "array([[ 8.89172815e+00,  1.13373803e+01],\n",
       "       [ 1.28857687e+01,  8.42578073e+00],\n",
       "       [ 8.52593434e+00,  1.22524179e+01],\n",
       "       [ 8.61602304e+00,  1.21708073e+01],\n",
       "       [ 8.24359599e+00,  1.07450696e+01],\n",
       "       [ 8.39297695e+00,  9.08129635e+00],\n",
       "       [ 9.28383036e+00,  1.03379778e+01],\n",
       "       [ 7.42799631e+00,  1.06404834e+01],\n",
       "       [ 8.57441599e+00,  9.08396964e+00],\n",
       "       [ 6.90957815e+00,  9.83612603e+00],\n",
       "       [ 9.37555763e+00,  1.21615218e+01],\n",
       "       [ 1.30256450e+01,  1.17252024e+01],\n",
       "       [ 1.22395560e+01,  8.79965032e+00],\n",
       "       [ 1.30541595e+01,  8.38758537e+00],\n",
       "       [ 1.25100508e+01,  1.25378867e+01],\n",
       "       [ 6.88220015e+00,  9.91254456e+00],\n",
       "       [ 1.22440038e+01,  1.07294317e+01],\n",
       "       [ 1.02965474e+01,  1.12204608e+01],\n",
       "       [ 1.18596460e+01,  1.19878296e+01],\n",
       "       [ 9.32011627e+00,  9.33015153e+00],\n",
       "       [ 1.03033357e+01,  1.12757429e+01],\n",
       "       [ 7.56618369e+00,  1.20865818e+01],\n",
       "       [ 1.57152508e+01,  7.31728282e+00],\n",
       "       [ 7.50048949e+00,  1.03017953e+01],\n",
       "       [ 1.05871893e+01,  9.49217432e+00],\n",
       "       [ 6.85918809e+00,  8.13441682e+00],\n",
       "       [ 1.22189257e+01,  1.28687598e+01],\n",
       "       [ 8.94887266e+00,  8.84350179e+00],\n",
       "       [ 1.10510719e+01,  1.07532812e+01],\n",
       "       [ 1.08355673e+01,  1.17029594e+01],\n",
       "       [ 8.23216627e+00,  1.05748489e+01],\n",
       "       [ 1.04079867e+01,  1.01707715e+01],\n",
       "       [ 1.34958063e+01,  1.17547237e+01],\n",
       "       [ 1.01747786e+01,  9.69266336e+00],\n",
       "       [ 4.42016698e+00,  1.06274006e+01],\n",
       "       [ 1.10345939e+01,  9.64555518e+00],\n",
       "       [ 8.79178006e+00,  8.77339386e+00],\n",
       "       [ 8.30824289e+00,  1.25406818e+01],\n",
       "       [ 1.15281076e+01,  1.08759984e+01],\n",
       "       [ 9.55275725e+00,  1.13644932e+01],\n",
       "       [ 1.04784659e+01,  8.31789965e+00],\n",
       "       [ 9.63291441e+00,  9.60569994e+00],\n",
       "       [ 1.01303287e+01,  1.11857608e+01],\n",
       "       [ 1.08801443e+01,  9.71943617e+00],\n",
       "       [ 9.85646121e+00,  1.05189761e+01],\n",
       "       [ 9.39744050e+00,  1.01210557e+01],\n",
       "       [ 1.05653498e+01,  1.06924002e+01],\n",
       "       [ 1.06410216e+01,  7.55100287e+00],\n",
       "       [ 9.94779791e+00,  1.13439119e+01],\n",
       "       [ 1.00427543e+01,  1.00059289e+01],\n",
       "       [ 9.63181039e+00,  1.03716469e+01],\n",
       "       [ 8.04910432e+00,  1.08325559e+01],\n",
       "       [ 9.38234690e+00,  1.29927140e+01],\n",
       "       [ 9.61541585e+00,  9.86039003e+00],\n",
       "       [ 1.22762187e+01,  9.14416081e+00],\n",
       "       [ 8.83811769e+00,  7.90697972e+00],\n",
       "       [ 1.05378487e+01,  1.09618558e+01],\n",
       "       [ 1.02765359e+01,  1.02818590e+01],\n",
       "       [ 8.88775318e+00,  9.06423366e+00],\n",
       "       [ 9.77322612e+00,  1.02956330e+01],\n",
       "       [ 9.05747170e+00,  8.86854745e+00],\n",
       "       [ 9.66036959e+00,  1.21232427e+01],\n",
       "       [ 8.00882019e+00,  1.06593698e+01],\n",
       "       [ 9.32383766e+00,  9.64298457e+00],\n",
       "       [ 7.46928668e+00,  8.04586974e+00],\n",
       "       [ 9.79062689e+00,  1.15276725e+01],\n",
       "       [ 9.81775678e+00,  1.22185624e+01],\n",
       "       [ 8.59523753e+00,  8.03255912e+00],\n",
       "       [ 1.07542135e+01,  1.18428136e+01],\n",
       "       [ 1.29205996e+01,  9.76598232e+00],\n",
       "       [ 8.22269036e+00,  9.96607116e+00],\n",
       "       [ 8.43928784e+00,  9.62938210e+00],\n",
       "       [ 8.90503803e+00,  7.55965519e+00],\n",
       "       [ 9.91478204e+00,  1.09146246e+01],\n",
       "       [ 1.07782520e+01,  8.40978200e+00],\n",
       "       [ 1.06947476e+01,  1.11824925e+01],\n",
       "       [ 8.05440467e+00,  9.84330016e+00],\n",
       "       [ 7.37395851e+00,  7.72012486e+00],\n",
       "       [ 9.26088411e+00,  1.09793967e+01],\n",
       "       [ 1.06831182e+01,  8.00740272e+00],\n",
       "       [ 1.16089567e+01,  1.27444303e+01],\n",
       "       [ 1.05328237e+01,  8.96015981e+00],\n",
       "       [ 1.11362507e+01,  8.37955910e+00],\n",
       "       [ 8.96463058e+00,  6.67110812e+00],\n",
       "       [ 1.26647624e+01,  1.15641242e+01],\n",
       "       [ 9.32736586e+00,  9.72236222e+00],\n",
       "       [ 9.00900923e+00,  1.00198445e+01],\n",
       "       [ 1.38893026e+01,  9.28890309e+00],\n",
       "       [ 1.05487758e+01,  7.79889910e+00],\n",
       "       [ 1.07726190e+01,  8.67298258e+00],\n",
       "       [ 9.78824395e+00,  7.35767872e+00],\n",
       "       [ 7.62562536e+00,  1.12183497e+01],\n",
       "       [ 9.88080934e+00,  1.42005179e+01],\n",
       "       [ 1.19546508e+01,  8.91915015e+00],\n",
       "       [ 9.96739342e+00,  1.19729706e+01],\n",
       "       [ 1.06795233e+01,  1.25834698e+01],\n",
       "       [ 1.01831092e+01,  7.96459115e+00],\n",
       "       [ 8.96245337e+00,  8.93293793e+00],\n",
       "       [ 1.19610809e+01,  9.89402026e+00],\n",
       "       [ 1.05015545e+01,  1.19645731e+01],\n",
       "       [-2.33755675e-01,  1.94717633e+01],\n",
       "       [ 2.67155906e+00,  2.24729936e+01],\n",
       "       [ 2.27645252e+00,  1.85600527e+01],\n",
       "       [ 2.24602790e-01,  2.18307937e+01],\n",
       "       [ 2.93582152e+00,  1.81627729e+01],\n",
       "       [-1.86741275e+00,  1.57824522e+01],\n",
       "       [ 2.45761242e+00,  1.74497885e+01],\n",
       "       [-1.35563944e+00,  2.13410268e+01],\n",
       "       [ 4.02693401e-01,  1.98929816e+01],\n",
       "       [ 2.36915087e+00,  2.27977913e+01],\n",
       "       [ 5.10800847e-01,  1.92657427e+01],\n",
       "       [-7.79017091e-01,  1.95992939e+01],\n",
       "       [-1.71623545e+00,  1.51150646e+01],\n",
       "       [-7.61090476e-01,  2.23823604e+01],\n",
       "       [-6.80505645e-01,  2.08996092e+01],\n",
       "       [ 1.69413649e+00,  2.03975280e+01],\n",
       "       [-2.74411876e+00,  1.91016570e+01],\n",
       "       [-9.24070718e-01,  1.95867424e+01],\n",
       "       [-1.03462907e+00,  1.89823285e+01],\n",
       "       [-1.43440425e+00,  1.85137628e+01],\n",
       "       [ 2.83275286e-01,  1.99953003e+01],\n",
       "       [-7.63409988e-01,  1.77456824e+01],\n",
       "       [-1.01821825e+00,  2.15360267e+01],\n",
       "       [ 2.08320612e+00,  2.03248875e+01],\n",
       "       [ 1.53928520e+00,  2.10364245e+01],\n",
       "       [ 2.98203123e+00,  1.73578691e+01],\n",
       "       [ 1.35586757e+00,  2.16572957e+01],\n",
       "       [-1.55506128e-01,  1.87103202e+01],\n",
       "       [-1.67367185e+00,  2.04478303e+01],\n",
       "       [ 3.31587885e+00,  1.76552863e+01],\n",
       "       [ 9.59404055e-01,  1.96505584e+01],\n",
       "       [ 8.18008432e-01,  1.92258410e+01],\n",
       "       [-1.78010321e+00,  1.77180092e+01],\n",
       "       [-3.04299864e+00,  2.29170760e+01],\n",
       "       [ 2.23619888e-01,  1.99524947e+01],\n",
       "       [ 2.68020222e+00,  2.13161405e+01],\n",
       "       [-1.28662286e+00,  1.74313676e+01],\n",
       "       [-3.06995624e+00,  2.03313311e+01],\n",
       "       [-2.00196188e+00,  1.72672990e+01],\n",
       "       [ 3.65443482e-01,  2.15501587e+01],\n",
       "       [-1.81977544e+00,  1.90128946e+01],\n",
       "       [-2.84459493e-01,  2.01781299e+01],\n",
       "       [ 7.01743382e-01,  1.91586428e+01],\n",
       "       [-3.28981905e-01,  1.76152492e+01],\n",
       "       [-4.60716390e-01,  1.94424556e+01],\n",
       "       [-1.20445892e-01,  1.98873144e+01],\n",
       "       [ 6.41305891e+00,  1.83474742e+01],\n",
       "       [ 2.63237117e+00,  2.19935855e+01],\n",
       "       [ 1.58652088e+00,  2.11597617e+01],\n",
       "       [ 1.32096202e+00,  1.97066977e+01],\n",
       "       [-2.68557255e-01,  1.92337397e+01],\n",
       "       [-2.40357317e+00,  2.16657428e+01],\n",
       "       [-7.13948510e-01,  1.69424461e+01],\n",
       "       [ 8.03138999e-01,  2.06322342e+01],\n",
       "       [ 3.62239570e+00,  1.91696661e+01],\n",
       "       [ 1.75070230e+00,  2.16368690e+01],\n",
       "       [ 2.51591091e+00,  2.19174704e+01],\n",
       "       [ 1.11359602e+00,  2.00528419e+01],\n",
       "       [ 7.99524649e-01,  1.67577796e+01],\n",
       "       [-2.19054470e+00,  2.07687987e+01],\n",
       "       [-1.27573136e+00,  2.16640416e+01],\n",
       "       [-2.94029580e+00,  1.97214259e+01],\n",
       "       [-1.09962834e+00,  1.87946287e+01],\n",
       "       [ 2.50478272e+00,  2.12663346e+01],\n",
       "       [-2.21961993e+00,  2.26923819e+01],\n",
       "       [ 2.50648775e+00,  1.90871664e+01],\n",
       "       [-5.82857006e-01,  2.26131092e+01],\n",
       "       [ 7.43594441e-01,  1.89744438e+01],\n",
       "       [-2.95078026e+00,  1.82465617e+01],\n",
       "       [ 1.13428696e+00,  1.91503213e+01],\n",
       "       [ 5.03535002e-01,  2.16315694e+01],\n",
       "       [ 1.54495603e+00,  1.97826203e+01],\n",
       "       [ 4.14461842e+00,  1.60098433e+01],\n",
       "       [ 1.94341006e-01,  2.30598572e+01],\n",
       "       [ 3.50245161e+00,  2.17423363e+01],\n",
       "       [ 2.15285411e+00,  2.12409507e+01],\n",
       "       [ 4.64249664e+00,  2.09778032e+01],\n",
       "       [ 1.22803110e+00,  2.13919053e+01],\n",
       "       [ 1.47087846e+00,  1.77651808e+01],\n",
       "       [-3.75267071e-01,  2.06662593e+01],\n",
       "       [ 2.71888031e-01,  2.11778935e+01],\n",
       "       [ 2.42920203e-01,  2.15964814e+01],\n",
       "       [ 5.35837583e-01,  1.85337704e+01],\n",
       "       [ 6.93559571e-01,  2.02060304e+01],\n",
       "       [-1.59703734e+00,  2.05901119e+01],\n",
       "       [-4.73337981e+00,  1.90751261e+01],\n",
       "       [ 2.53892892e-01,  2.10095964e+01],\n",
       "       [-2.91215260e+00,  2.27523767e+01],\n",
       "       [-1.59721724e+00,  1.95095431e+01],\n",
       "       [-1.23715758e+00,  2.11975913e+01],\n",
       "       [ 5.72237443e-01,  2.05399617e+01],\n",
       "       [-2.74212554e+00,  2.01472682e+01],\n",
       "       [ 7.02050334e-02,  1.90344930e+01],\n",
       "       [-4.76083180e-01,  1.89961349e+01],\n",
       "       [ 1.44389300e+00,  1.83441016e+01],\n",
       "       [-1.41152678e+00,  2.17100723e+01],\n",
       "       [ 2.52901717e-02,  2.10093677e+01],\n",
       "       [-2.56706058e-01,  1.70607393e+01],\n",
       "       [-2.42378538e-01,  2.08349176e+01],\n",
       "       [-1.18703637e+00,  2.19620719e+01],\n",
       "       [ 1.77177536e+01,  1.88419592e+01],\n",
       "       [ 2.09712506e+01,  2.23968375e+01],\n",
       "       [ 2.13158532e+01,  1.90966465e+01],\n",
       "       [ 1.88860802e+01,  2.21827874e+01],\n",
       "       [ 1.83479944e+01,  2.27892129e+01],\n",
       "       [ 2.32536241e+01,  1.78034297e+01],\n",
       "       [ 2.08158340e+01,  2.21240259e+01],\n",
       "       [ 1.99150422e+01,  1.96296566e+01],\n",
       "       [ 1.87516618e+01,  2.19664217e+01],\n",
       "       [ 2.05669743e+01,  1.84183007e+01],\n",
       "       [ 2.20817644e+01,  1.95020313e+01],\n",
       "       [ 2.21318866e+01,  2.14142547e+01],\n",
       "       [ 1.78387526e+01,  1.93558484e+01],\n",
       "       [ 2.23757434e+01,  1.87184022e+01],\n",
       "       [ 1.96462729e+01,  2.03934546e+01],\n",
       "       [ 1.98480923e+01,  1.87760936e+01],\n",
       "       [ 1.87480972e+01,  1.81163256e+01],\n",
       "       [ 1.68463044e+01,  1.95319444e+01],\n",
       "       [ 1.76636556e+01,  1.92905212e+01],\n",
       "       [ 1.93040747e+01,  1.89547646e+01],\n",
       "       [ 1.84151439e+01,  2.29951082e+01],\n",
       "       [ 1.94523981e+01,  1.80263356e+01],\n",
       "       [ 1.81635585e+01,  1.70902044e+01],\n",
       "       [ 2.11593415e+01,  1.82040515e+01],\n",
       "       [ 1.94332251e+01,  2.18233926e+01],\n",
       "       [ 2.05321629e+01,  1.86542477e+01],\n",
       "       [ 2.01821429e+01,  1.84906345e+01],\n",
       "       [ 1.79834523e+01,  1.86762030e+01],\n",
       "       [ 1.73379940e+01,  1.95231266e+01],\n",
       "       [ 1.82719900e+01,  2.02382026e+01],\n",
       "       [ 2.15036483e+01,  2.25957232e+01],\n",
       "       [ 2.05473376e+01,  2.08351561e+01],\n",
       "       [ 2.28867901e+01,  2.16851612e+01],\n",
       "       [ 2.19941464e+01,  1.86972966e+01],\n",
       "       [ 2.29147660e+01,  2.28003520e+01],\n",
       "       [ 2.10008272e+01,  2.04462524e+01],\n",
       "       [ 1.79309483e+01,  1.83317078e+01],\n",
       "       [ 1.85215571e+01,  2.54560458e+01],\n",
       "       [ 1.83925595e+01,  2.03753619e+01],\n",
       "       [ 2.04452021e+01,  1.82444328e+01],\n",
       "       [ 2.14027656e+01,  1.90583191e+01],\n",
       "       [ 1.95009512e+01,  1.84357040e+01],\n",
       "       [ 2.18492881e+01,  1.99947357e+01],\n",
       "       [ 2.34333692e+01,  2.06323846e+01],\n",
       "       [ 2.03865641e+01,  2.02755913e+01],\n",
       "       [ 2.12609277e+01,  1.93748712e+01],\n",
       "       [ 1.81307977e+01,  1.54831719e+01],\n",
       "       [ 1.94357137e+01,  2.01554656e+01],\n",
       "       [ 1.87298899e+01,  2.19089896e+01],\n",
       "       [ 1.87951779e+01,  1.82369000e+01],\n",
       "       [ 1.87164327e+01,  1.68606169e+01],\n",
       "       [ 2.40829131e+01,  1.97886798e+01],\n",
       "       [ 1.96170287e+01,  1.89613201e+01],\n",
       "       [ 2.25434375e+01,  1.92046739e+01],\n",
       "       [ 1.84603791e+01,  2.18080058e+01],\n",
       "       [ 2.09792658e+01,  2.12397046e+01],\n",
       "       [ 1.99947775e+01,  2.02505986e+01],\n",
       "       [ 2.09402649e+01,  1.83528610e+01],\n",
       "       [ 2.15915076e+01,  1.97505883e+01],\n",
       "       [ 1.93813645e+01,  2.14940498e+01],\n",
       "       [ 1.69344468e+01,  1.94401144e+01],\n",
       "       [ 2.19798094e+01,  1.62680065e+01],\n",
       "       [ 1.92346618e+01,  2.07002116e+01],\n",
       "       [ 1.65764612e+01,  2.54606775e+01],\n",
       "       [ 1.83634325e+01,  2.23479770e+01],\n",
       "       [ 2.07128199e+01,  2.06997221e+01],\n",
       "       [ 2.02017804e+01,  2.02380511e+01],\n",
       "       [ 1.62938071e+01,  2.14197024e+01],\n",
       "       [ 1.78380830e+01,  2.06083203e+01],\n",
       "       [ 1.74496769e+01,  1.69907506e+01],\n",
       "       [ 2.07798731e+01,  1.99839437e+01],\n",
       "       [ 1.93654137e+01,  1.89795121e+01],\n",
       "       [ 2.12321871e+01,  2.15089750e+01],\n",
       "       [ 2.03904186e+01,  2.31328729e+01],\n",
       "       [ 1.63620054e+01,  1.74452240e+01],\n",
       "       [ 1.79027736e+01,  1.87834940e+01],\n",
       "       [ 2.18847427e+01,  1.82240126e+01],\n",
       "       [ 1.88877518e+01,  1.97182643e+01],\n",
       "       [ 1.87532113e+01,  2.21955982e+01],\n",
       "       [ 1.89401066e+01,  2.12140579e+01],\n",
       "       [ 1.82159499e+01,  1.72784913e+01],\n",
       "       [ 2.01292155e+01,  1.91429152e+01],\n",
       "       [ 1.95269824e+01,  2.25614128e+01],\n",
       "       [ 1.76222690e+01,  1.78951612e+01],\n",
       "       [ 1.98430477e+01,  1.58931916e+01],\n",
       "       [ 2.11964074e+01,  2.06121241e+01],\n",
       "       [ 1.93662858e+01,  2.29219762e+01],\n",
       "       [ 1.90509034e+01,  2.05172084e+01],\n",
       "       [ 2.13014970e+01,  2.25900607e+01],\n",
       "       [ 2.20744958e+01,  2.02425383e+01],\n",
       "       [ 1.94072500e+01,  1.88582559e+01],\n",
       "       [ 2.00654401e+01,  1.95852977e+01],\n",
       "       [ 2.52600348e+01,  1.73656373e+01],\n",
       "       [ 1.80663467e+01,  1.78760007e+01],\n",
       "       [ 1.86101143e+01,  2.23351875e+01],\n",
       "       [ 1.81354599e+01,  2.12757283e+01],\n",
       "       [ 1.80005056e+01,  1.98116409e+01],\n",
       "       [ 1.76199574e+01,  1.84276652e+01],\n",
       "       [ 2.29143721e+01,  1.85949069e+01],\n",
       "       [ 1.85413148e+01,  2.21398979e+01]])"
      ]
     },
     "execution_count": 5,
     "metadata": {},
     "output_type": "execute_result"
    }
   ],
   "source": [
    "x = np.concatenate((a,b,c))\n",
    "x"
   ]
  },
  {
   "cell_type": "code",
   "execution_count": 6,
   "metadata": {},
   "outputs": [
    {
     "data": {
      "text/plain": [
       "(300, 2)"
      ]
     },
     "execution_count": 6,
     "metadata": {},
     "output_type": "execute_result"
    }
   ],
   "source": [
    "x.shape"
   ]
  },
  {
   "cell_type": "code",
   "execution_count": 7,
   "metadata": {},
   "outputs": [
    {
     "data": {
      "image/png": "[encoded data removed]",
      "text/plain": [
       "<Figure size 800x600 with 1 Axes>"
      ]
     },
     "metadata": {},
     "output_type": "display_data"
    }
   ],
   "source": [
    "plt.figure(figsize=(8,6))\n",
    "plt.scatter(x[:,0], x[:,1])\n",
    "plt.xlabel('$x$')\n",
    "plt.ylabel('$y$')\n",
    "plt.grid()\n",
    "plt.show()"
   ]
  },
  {
   "cell_type": "code",
   "execution_count": 8,
   "metadata": {},
   "outputs": [
    {
     "data": {
      "text/plain": [
       "array([[1.70000000e+01, 2.00000000e+01, 5.56973012e-02, 2.00000000e+00],\n",
       "       [2.08000000e+02, 2.48000000e+02, 6.14203420e-02, 2.00000000e+00],\n",
       "       [2.19000000e+02, 2.71000000e+02, 6.61431212e-02, 2.00000000e+00],\n",
       "       ...,\n",
       "       [5.88000000e+02, 5.92000000e+02, 2.10156233e+01, 1.00000000e+02],\n",
       "       [5.94000000e+02, 5.96000000e+02, 1.37886762e+02, 2.00000000e+02],\n",
       "       [5.95000000e+02, 5.97000000e+02, 1.79228503e+02, 3.00000000e+02]],\n",
       "      shape=(299, 4))"
      ]
     },
     "execution_count": 8,
     "metadata": {},
     "output_type": "execute_result"
    }
   ],
   "source": [
    "# Aplicar clustering jerarquico\n",
    "\n",
    "z= hierarchy.linkage(x,metric='euclidean', method='ward')\n",
    "z\n"
   ]
  },
  {
   "cell_type": "code",
   "execution_count": 9,
   "metadata": {},
   "outputs": [
    {
     "data": {
      "text/html": [
       "<div>\n",
       "<style scoped>\n",
       "    .dataframe tbody tr th:only-of-type {\n",
       "        vertical-align: middle;\n",
       "    }\n",
       "\n",
       "    .dataframe tbody tr th {\n",
       "        vertical-align: top;\n",
       "    }\n",
       "\n",
       "    .dataframe thead th {\n",
       "        text-align: right;\n",
       "    }\n",
       "</style>\n",
       "<table border=\"1\" class=\"dataframe\">\n",
       "  <thead>\n",
       "    <tr style=\"text-align: right;\">\n",
       "      <th></th>\n",
       "      <th>0</th>\n",
       "      <th>1</th>\n",
       "      <th>2</th>\n",
       "      <th>3</th>\n",
       "    </tr>\n",
       "  </thead>\n",
       "  <tbody>\n",
       "    <tr>\n",
       "      <th>0</th>\n",
       "      <td>17.0</td>\n",
       "      <td>20.0</td>\n",
       "      <td>0.055697</td>\n",
       "      <td>2.0</td>\n",
       "    </tr>\n",
       "    <tr>\n",
       "      <th>1</th>\n",
       "      <td>208.0</td>\n",
       "      <td>248.0</td>\n",
       "      <td>0.061420</td>\n",
       "      <td>2.0</td>\n",
       "    </tr>\n",
       "    <tr>\n",
       "      <th>2</th>\n",
       "      <td>219.0</td>\n",
       "      <td>271.0</td>\n",
       "      <td>0.066143</td>\n",
       "      <td>2.0</td>\n",
       "    </tr>\n",
       "    <tr>\n",
       "      <th>3</th>\n",
       "      <td>120.0</td>\n",
       "      <td>134.0</td>\n",
       "      <td>0.073424</td>\n",
       "      <td>2.0</td>\n",
       "    </tr>\n",
       "    <tr>\n",
       "      <th>4</th>\n",
       "      <td>63.0</td>\n",
       "      <td>85.0</td>\n",
       "      <td>0.079456</td>\n",
       "      <td>2.0</td>\n",
       "    </tr>\n",
       "    <tr>\n",
       "      <th>...</th>\n",
       "      <td>...</td>\n",
       "      <td>...</td>\n",
       "      <td>...</td>\n",
       "      <td>...</td>\n",
       "    </tr>\n",
       "    <tr>\n",
       "      <th>294</th>\n",
       "      <td>590.0</td>\n",
       "      <td>591.0</td>\n",
       "      <td>17.906409</td>\n",
       "      <td>100.0</td>\n",
       "    </tr>\n",
       "    <tr>\n",
       "      <th>295</th>\n",
       "      <td>589.0</td>\n",
       "      <td>593.0</td>\n",
       "      <td>20.778306</td>\n",
       "      <td>100.0</td>\n",
       "    </tr>\n",
       "    <tr>\n",
       "      <th>296</th>\n",
       "      <td>588.0</td>\n",
       "      <td>592.0</td>\n",
       "      <td>21.015623</td>\n",
       "      <td>100.0</td>\n",
       "    </tr>\n",
       "    <tr>\n",
       "      <th>297</th>\n",
       "      <td>594.0</td>\n",
       "      <td>596.0</td>\n",
       "      <td>137.886762</td>\n",
       "      <td>200.0</td>\n",
       "    </tr>\n",
       "    <tr>\n",
       "      <th>298</th>\n",
       "      <td>595.0</td>\n",
       "      <td>597.0</td>\n",
       "      <td>179.228503</td>\n",
       "      <td>300.0</td>\n",
       "    </tr>\n",
       "  </tbody>\n",
       "</table>\n",
       "<p>299 rows × 4 columns</p>\n",
       "</div>"
      ],
      "text/plain": [
       "         0      1           2      3\n",
       "0     17.0   20.0    0.055697    2.0\n",
       "1    208.0  248.0    0.061420    2.0\n",
       "2    219.0  271.0    0.066143    2.0\n",
       "3    120.0  134.0    0.073424    2.0\n",
       "4     63.0   85.0    0.079456    2.0\n",
       "..     ...    ...         ...    ...\n",
       "294  590.0  591.0   17.906409  100.0\n",
       "295  589.0  593.0   20.778306  100.0\n",
       "296  588.0  592.0   21.015623  100.0\n",
       "297  594.0  596.0  137.886762  200.0\n",
       "298  595.0  597.0  179.228503  300.0\n",
       "\n",
       "[299 rows x 4 columns]"
      ]
     },
     "execution_count": 9,
     "metadata": {},
     "output_type": "execute_result"
    }
   ],
   "source": [
    "df_z= pd.DataFrame(z)\n",
    "df_z"
   ]
  },
  {
   "cell_type": "markdown",
   "metadata": {},
   "source": [
    "## Criterios de selección de grupos\n"
   ]
  },
  {
   "cell_type": "code",
   "execution_count": null,
   "metadata": {},
   "outputs": [],
   "source": [
    "# Criterio del dendrograma\n"
   ]
  },
  {
   "cell_type": "markdown",
   "metadata": {},
   "source": [
    "## Otros criterios de selección"
   ]
  },
  {
   "cell_type": "markdown",
   "metadata": {},
   "source": [
    "### Criterio del Codo (1er criterio)\n"
   ]
  },
  {
   "cell_type": "code",
   "execution_count": null,
   "metadata": {},
   "outputs": [],
   "source": [
    "# Gráfica del codo\n"
   ]
  },
  {
   "cell_type": "code",
   "execution_count": null,
   "metadata": {},
   "outputs": [],
   "source": []
  },
  {
   "cell_type": "code",
   "execution_count": null,
   "metadata": {},
   "outputs": [],
   "source": [
    "# Graficar critero del codo\n"
   ]
  },
  {
   "cell_type": "code",
   "execution_count": null,
   "metadata": {},
   "outputs": [],
   "source": [
    "# Función que gener y grafique el criterio del codo\n"
   ]
  },
  {
   "cell_type": "markdown",
   "metadata": {},
   "source": [
    "### Criterio del gradiente\n"
   ]
  },
  {
   "cell_type": "code",
   "execution_count": null,
   "metadata": {},
   "outputs": [],
   "source": []
  },
  {
   "cell_type": "code",
   "execution_count": null,
   "metadata": {},
   "outputs": [],
   "source": [
    "# Función que gener y grafique el criterio del gradiente\n"
   ]
  },
  {
   "cell_type": "markdown",
   "metadata": {},
   "source": [
    "## Aplicar número de grupos opt"
   ]
  },
  {
   "cell_type": "code",
   "execution_count": null,
   "metadata": {},
   "outputs": [],
   "source": []
  },
  {
   "cell_type": "markdown",
   "metadata": {},
   "source": [
    "## Ejemplo 2: \n",
    "\n",
    "Consideremos el datasety `shopping-data.csv`, este dataset contiene información sobre el ingreso anual y gastos de clientes de una empresa.\n",
    "\n",
    "Conservaremos las columnas Ingresos anuales (en miles de dólares) y Puntuación de gastos (1-100). La columna Spending Score indica la frecuencia con la que una persona gasta dinero en un centro comercial en una escala del 1 al 100, siendo 100 el que más gasta."
   ]
  },
  {
   "cell_type": "code",
   "execution_count": null,
   "metadata": {
    "scrolled": true
   },
   "outputs": [],
   "source": []
  },
  {
   "cell_type": "code",
   "execution_count": null,
   "metadata": {},
   "outputs": [],
   "source": [
    "# Clustering Jerárquico\n"
   ]
  },
  {
   "cell_type": "code",
   "execution_count": null,
   "metadata": {},
   "outputs": [],
   "source": [
    "#Dendrograma\n"
   ]
  },
  {
   "cell_type": "code",
   "execution_count": null,
   "metadata": {},
   "outputs": [],
   "source": [
    "# 2do criterio (criterio del codo)\n"
   ]
  },
  {
   "cell_type": "code",
   "execution_count": null,
   "metadata": {},
   "outputs": [],
   "source": [
    "# 3er criterio (criterio del gradiente)\n"
   ]
  },
  {
   "cell_type": "code",
   "execution_count": null,
   "metadata": {},
   "outputs": [],
   "source": []
  }
 ],
 "metadata": {
  "kernelspec": {
   "display_name": "Python 3",
   "language": "python",
   "name": "python3"
  },
  "language_info": {
   "codemirror_mode": {
    "name": "ipython",
    "version": 3
   },
   "file_extension": ".py",
   "mimetype": "text/x-python",
   "name": "python",
   "nbconvert_exporter": "python",
   "pygments_lexer": "ipython3",
   "version": "3.13.3"
  }
 },
 "nbformat": 4,
 "nbformat_minor": 4
}
