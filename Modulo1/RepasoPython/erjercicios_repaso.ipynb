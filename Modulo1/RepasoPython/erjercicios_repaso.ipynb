{
 "cells": [
  {
   "cell_type": "markdown",
   "id": "537ee92d-c367-4929-a4e5-4811a62cdd72",
   "metadata": {},
   "source": [
    "<img style=\"float: left;;\" src='Figures/alinco.png' height=\"100\"/></a>\n",
    "\n",
    "# <center> <font color= #000047> Ejercicios Repaso</font> </center>\n",
    "\n"
   ]
  },
  {
   "cell_type": "markdown",
   "id": "2fa0fb58-c885-44ab-8ef5-47ecc49bc554",
   "metadata": {},
   "source": [
    "1.- Imprime los números del 1 al 10 usando un ciclo.\n",
    "\n",
    "2.- Calcula la suma de todos los números pares entre 1 y 100.\n",
    "\n",
    "3.- Pide al usuario un número y determina si es par o impar.\n",
    "\n",
    "4.- Crea una función que reciba una lista y devuelva la lista invertida.\n",
    "\n",
    "5.- Escribe un programa que calcule el factorial de un número dado por el usuario.\n",
    "\n",
    "6.- Crea una lista con los cuadrados de los números del 1 al 20.\n",
    "\n",
    "7.- Escribe una función que cuente cuántas veces aparece un elemento en una lista.\n",
    "\n",
    "8.- Pide al usuario una palabra y determina si es un palíndromo.\n",
    "\n",
    "9.- Escribe un programa que imprima la tabla de multiplicar de un número dado.\n",
    "\n",
    "10.- Crea un diccionario con nombres de personas y sus edades, luego imprime solo los nombres de las personas mayores de 18 años."
   ]
  },
  {
   "cell_type": "code",
   "execution_count": 3,
   "id": "a1ee5c52-824d-4e8e-9e35-d8785a02b8b6",
   "metadata": {},
   "outputs": [
    {
     "name": "stdout",
     "output_type": "stream",
     "text": [
      "1\n",
      "2\n",
      "3\n",
      "4\n",
      "5\n",
      "6\n",
      "7\n",
      "8\n",
      "9\n",
      "10\n"
     ]
    }
   ],
   "source": [
    "##1.- Imprime los números del 1 al 10 usando un ciclo.\n",
    "for i in range(1,11):\n",
    "    print(i)"
   ]
  },
  {
   "cell_type": "code",
   "execution_count": 10,
   "id": "a1400a6b",
   "metadata": {},
   "outputs": [
    {
     "name": "stdout",
     "output_type": "stream",
     "text": [
      "2450\n",
      "2450\n"
     ]
    }
   ],
   "source": [
    "##2.- Calcula la suma de todos los números pares entre 1 y 100.\n",
    "total=0\n",
    "numList= list(range(2,100,2))\n",
    "##print(numList)2....98\n",
    "print(sum(numList))\n",
    "\n",
    "for item in numList:\n",
    "    total+= item\n",
    "print(total)\n"
   ]
  },
  {
   "cell_type": "code",
   "execution_count": 15,
   "id": "8a67f507",
   "metadata": {},
   "outputs": [
    {
     "name": "stdout",
     "output_type": "stream",
     "text": [
      "El número 2 es PAR.\n"
     ]
    }
   ],
   "source": [
    "##3.- Pide al usuario un número y determina si es par o impar.\n",
    "\n",
    "num=int(input(\"Ingrese un número: \"))\n",
    "if(num % 2 == 0):\n",
    "    print(f\"El número {num} es PAR.\")\n",
    "else:\n",
    "    print(f\"El número {num} es IMPAR.\")"
   ]
  },
  {
   "cell_type": "code",
   "execution_count": 20,
   "id": "0cf3e3a1",
   "metadata": {},
   "outputs": [
    {
     "name": "stdout",
     "output_type": "stream",
     "text": [
      "No es una lista\n",
      "[5, 4, 3, 2, 1]\n"
     ]
    }
   ],
   "source": [
    "##4.- Crea una función que reciba una lista y devuelva la lista invertida.\n",
    "def revertList(parList):\n",
    "  if not isinstance(parList, list):\n",
    "    return \"No es una lista\"\n",
    "  \n",
    "  parList.reverse()\n",
    "  return parList\n",
    "\n",
    "listTest=[1,2,3,4,5]\n",
    "print(revertList(\"listTest\"))\n",
    "print(revertList(listTest))\n"
   ]
  },
  {
   "cell_type": "code",
   "execution_count": 22,
   "id": "3c51873c",
   "metadata": {},
   "outputs": [
    {
     "name": "stdout",
     "output_type": "stream",
     "text": [
      "1\n"
     ]
    }
   ],
   "source": [
    "##5.- Escribe un programa que calcule el factorial de un número dado por el usuario.\n",
    "num=int(input(\"Ingrese un número: \"))\n",
    "\n",
    "def factorial(parNum):\n",
    "    if parNum <0:\n",
    "        return \"No es posible calcular factorial negativo\"\n",
    "    \n",
    "    res=1\n",
    "    for i in range(1,parNum+1):\n",
    "        res *=i\n",
    "    return res\n",
    "\n",
    "print(factorial(num))"
   ]
  },
  {
   "cell_type": "code",
   "execution_count": 24,
   "id": "44f521c4",
   "metadata": {},
   "outputs": [
    {
     "name": "stdout",
     "output_type": "stream",
     "text": [
      "[1, 4, 9, 16, 25, 36, 49, 64, 81, 100, 121, 144, 169, 196, 225, 256, 289, 324, 361, 400]\n"
     ]
    }
   ],
   "source": [
    "##6.- Crea una lista con los cuadrados de los números del 1 al 20.\n",
    "numList = list(range(1,21))\n",
    "##print(numList)1....20\n",
    "listResult=[]\n",
    "for item in numList:\n",
    "    listResult.append(item*item)\n",
    "print(listResult)\n"
   ]
  },
  {
   "cell_type": "code",
   "execution_count": 30,
   "id": "c48c6fc9",
   "metadata": {},
   "outputs": [
    {
     "name": "stdout",
     "output_type": "stream",
     "text": [
      "{11: 1, 322: 1, 55: 3, 88: 1, 52: 1, 5: 1, 66: 2}\n"
     ]
    }
   ],
   "source": [
    "##7.- Escribe una función que cuente cuántas veces aparece un elemento en una lista.\n",
    "\n",
    "def countElements(parList):\n",
    "    if(not isinstance(parList, list)):\n",
    "        return \"No es una lista\"\n",
    "    \n",
    "    resTupla = tuple(parList)\n",
    "    dicResult = dict.fromkeys(resTupla,0)\n",
    "    for item in parList:\n",
    "        dicResult[item] += 1\n",
    "        \n",
    "    return dicResult\n",
    "\n",
    "lista=[11,322,55,88,52,55,5,55,66,66]\n",
    "print(countElements(lista))\n",
    "\n",
    "\n",
    "\n"
   ]
  },
  {
   "cell_type": "code",
   "execution_count": 33,
   "id": "a5cd4f20",
   "metadata": {},
   "outputs": [
    {
     "name": "stdout",
     "output_type": "stream",
     "text": [
      "No es un palindromo\n"
     ]
    }
   ],
   "source": [
    "##8.- Pide al usuario una palabra y determina si es un palíndromo.\n",
    "palabra=input(\"Ingrese una palabra: \")\n",
    "\n",
    "if(palabra == palabra[::-1]):\n",
    "    print(\"Es un palindromo\")\n",
    "else:\n",
    "    print(\"No es un palindromo\")\n"
   ]
  },
  {
   "cell_type": "code",
   "execution_count": 37,
   "id": "409c5ed0",
   "metadata": {},
   "outputs": [
    {
     "name": "stdout",
     "output_type": "stream",
     "text": [
      "2 x 1 = 2\n",
      "2 x 2 = 4\n",
      "2 x 3 = 6\n",
      "2 x 4 = 8\n",
      "2 x 5 = 10\n",
      "2 x 6 = 12\n",
      "2 x 7 = 14\n",
      "2 x 8 = 16\n",
      "2 x 9 = 18\n",
      "2 x 10 = 20\n"
     ]
    }
   ],
   "source": [
    "##9.- Escribe un programa que imprima la tabla de multiplicar de un número dado.\n",
    "num=int(input(\"Ingrese un número: \"))\n",
    "\n",
    "if num<=0:\n",
    "    print(\"No se imprimirá la tabla de multiplicar de un número menor a 1\")\n",
    "else:\n",
    "    for i in range(1,11):\n",
    "        print(f\"{num} x {i} = {num*i}\")"
   ]
  },
  {
   "cell_type": "code",
   "execution_count": 38,
   "id": "536cb1aa",
   "metadata": {},
   "outputs": [
    {
     "name": "stdout",
     "output_type": "stream",
     "text": [
      "Personas mayores de 18 años:\n",
      "- Ana\n",
      "- María\n",
      "- Laura\n",
      "- Pedro\n"
     ]
    }
   ],
   "source": [
    "##10.- Crea un diccionario con nombres de personas y sus edades, luego imprime solo los nombres de las personas mayores de 18 años.\n",
    "\n",
    "personas = {\n",
    "    \"Ana\": 25,\n",
    "    \"Carlos\": 17,\n",
    "    \"María\": 32,\n",
    "    \"Javier\": 16,\n",
    "    \"Laura\": 19,\n",
    "    \"Pedro\": 45,\n",
    "    \"Sofía\": 15\n",
    "}\n",
    "print(\"Personas mayores de 18 años:\")\n",
    "for nombre, edad in personas.items():\n",
    "    if edad > 18:\n",
    "        print(f\"- {nombre}\")"
   ]
  }
 ],
 "metadata": {
  "kernelspec": {
   "display_name": "Python 3",
   "language": "python",
   "name": "python3"
  },
  "language_info": {
   "codemirror_mode": {
    "name": "ipython",
    "version": 3
   },
   "file_extension": ".py",
   "mimetype": "text/x-python",
   "name": "python",
   "nbconvert_exporter": "python",
   "pygments_lexer": "ipython3",
   "version": "3.11.9"
  }
 },
 "nbformat": 4,
 "nbformat_minor": 5
}
