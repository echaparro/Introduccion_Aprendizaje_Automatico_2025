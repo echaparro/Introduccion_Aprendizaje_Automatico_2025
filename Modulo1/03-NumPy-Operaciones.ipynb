{
 "cells": [
  {
   "cell_type": "markdown",
   "metadata": {},
   "source": [
    "\n",
    "<img style=\"float: left;;\" src='Figures/alinco.png' height=\"100\"/></a>\n",
    "\n",
    "# <center> <font color= #000047>  Operaciones con NumPy</font> </center>\n",
    "\n"
   ]
  },
  {
   "cell_type": "markdown",
   "metadata": {},
   "source": [
    "## Aritméticas\n",
    "\n",
    "Podemos realizar fácilmente aritmeticas como *arreglo con arreglo* , o *escalar con arreglo*. Veamos algunos ejemplos: "
   ]
  },
  {
   "cell_type": "code",
   "execution_count": 5,
   "metadata": {},
   "outputs": [
    {
     "name": "stdout",
     "output_type": "stream",
     "text": [
      "[1, 2, 3, 4, 5, 6]\n",
      "[5 7 9]\n",
      "[2 4 6]\n",
      "[1 2 3]\n"
     ]
    }
   ],
   "source": [
    "import numpy as np\n",
    "\n",
    "l1=[1,2,3]\n",
    "l2=[4,5,6]\n",
    "print(l1+l2)\n",
    "\n",
    "a1= np.array(l1)\n",
    "a2= np.array(l2)\n",
    "print(a1+a2)\n",
    "\n",
    "print(2*a1)\n",
    "\n",
    "print(a1.transpose())"
   ]
  },
  {
   "cell_type": "code",
   "execution_count": null,
   "metadata": {},
   "outputs": [],
   "source": [
    "# Crear una matriz aleatoria de números enteros de dimensión 4x2 -> A\n",
    "# Crear una matriz aleatoria de números enteros de dimensión 2x6 -> B\n",
    "# Realizar la multiplicación de Matrices C = A*B\n",
    "# Realizar la multiplicación de Matrices C = B*A\n",
    "\n"
   ]
  },
  {
   "cell_type": "code",
   "execution_count": 8,
   "metadata": {},
   "outputs": [
    {
     "name": "stdout",
     "output_type": "stream",
     "text": [
      "[[80 26]\n",
      " [61 85]\n",
      " [ 4 53]\n",
      " [ 1 32]]\n"
     ]
    }
   ],
   "source": [
    "A = np.random.randint(100, size=(4,2))\n",
    "print(A)"
   ]
  },
  {
   "cell_type": "code",
   "execution_count": 9,
   "metadata": {},
   "outputs": [
    {
     "name": "stdout",
     "output_type": "stream",
     "text": [
      "[[89 22 56 45 92  2]\n",
      " [ 2  7 40 10 12 12]]\n"
     ]
    }
   ],
   "source": [
    "B= np.random.randint(100, size=(2,6))\n",
    "print(B)"
   ]
  },
  {
   "cell_type": "code",
   "execution_count": null,
   "metadata": {},
   "outputs": [
    {
     "name": "stdout",
     "output_type": "stream",
     "text": [
      "[[7172 1942 5520 3860 7672  472]\n",
      " [5599 1937 6816 3595 6632 1142]\n",
      " [ 462  459 2344  710 1004  644]\n",
      " [ 153  246 1336  365  476  386]]\n",
      "(4, 6)\n"
     ]
    }
   ],
   "source": [
    "C= A@B #Con el @ se pueden multiplicar las matrices\n",
    "print(C)\n",
    "print(C.shape)"
   ]
  },
  {
   "cell_type": "markdown",
   "metadata": {},
   "source": [
    "## Funciones universales en los Arreglos\n",
    "\n",
    "NumPy viene con muchass [funciones universales en los arreglos](http://docs.scipy.org/doc/numpy/reference/ufuncs.html), or <em>ufuncs</em>, que son esencialmente operaciones matemáticas que se pueden aplicar al arreglo.<br>Veamos algunas funciones más comunes:"
   ]
  },
  {
   "cell_type": "code",
   "execution_count": null,
   "metadata": {},
   "outputs": [
    {
     "name": "stdout",
     "output_type": "stream",
     "text": [
      "[1.         1.41421356 1.73205081]\n"
     ]
    }
   ],
   "source": [
    "print(np.sqrt(a1)) # Raiz cuadrada de cada elemento"
   ]
  },
  {
   "cell_type": "code",
   "execution_count": 14,
   "metadata": {},
   "outputs": [
    {
     "name": "stdout",
     "output_type": "stream",
     "text": [
      "[ 2.71828183  7.3890561  20.08553692]\n"
     ]
    }
   ],
   "source": [
    "print(np.exp(a1))"
   ]
  },
  {
   "cell_type": "code",
   "execution_count": 15,
   "metadata": {},
   "outputs": [
    {
     "name": "stdout",
     "output_type": "stream",
     "text": [
      "[0.84147098 0.90929743 0.14112001]\n"
     ]
    }
   ],
   "source": [
    "print(np.sin(a1))"
   ]
  },
  {
   "cell_type": "code",
   "execution_count": 16,
   "metadata": {
    "scrolled": true
   },
   "outputs": [
    {
     "name": "stdout",
     "output_type": "stream",
     "text": [
      "[ 0.54030231 -0.41614684 -0.9899925 ]\n"
     ]
    }
   ],
   "source": [
    "print(np.cos(a1))"
   ]
  },
  {
   "cell_type": "code",
   "execution_count": 17,
   "metadata": {},
   "outputs": [
    {
     "name": "stdout",
     "output_type": "stream",
     "text": [
      "[0.         0.69314718 1.09861229]\n"
     ]
    }
   ],
   "source": [
    "print(np.log(a1))"
   ]
  },
  {
   "cell_type": "markdown",
   "metadata": {},
   "source": [
    "## Resumen de Estadística sobre Arreglos\n",
    "\n",
    "NumPy también ofrece métodos estadísticos como <em> sum </em>, <em> mean </em> y <em> max </em>. "
   ]
  },
  {
   "cell_type": "code",
   "execution_count": 19,
   "metadata": {},
   "outputs": [
    {
     "name": "stdout",
     "output_type": "stream",
     "text": [
      "6\n"
     ]
    }
   ],
   "source": [
    "print(a1.sum())"
   ]
  },
  {
   "cell_type": "code",
   "execution_count": 20,
   "metadata": {},
   "outputs": [
    {
     "name": "stdout",
     "output_type": "stream",
     "text": [
      "2.0\n"
     ]
    }
   ],
   "source": [
    "print(a1.mean())"
   ]
  },
  {
   "cell_type": "markdown",
   "metadata": {},
   "source": [
    "## Lógica para el eje (axis)\n",
    "\n",
    "Cuando trabajamos con arreglos bidimensionales, debemos considerar filas y columnas. En términos de un arreglo, el eje 0 (cero) es el eje horizontal (filas) y el eje 1 es el eje vertical (columnas). Los valores (0,1) corresponden al orden en el que método <tt> arr.shape </tt> da como salida.\n",
    "\n",
    "Veamos cómo afecta esto a nuestros cálculos estadísticos resumidos de arriba.\n"
   ]
  },
  {
   "cell_type": "code",
   "execution_count": null,
   "metadata": {},
   "outputs": [],
   "source": []
  },
  {
   "cell_type": "markdown",
   "metadata": {},
   "source": [
    "Dando como entrada <tt>axis=0</tt>, estamos devolviendo la suma del arreglo a lo largo del eje vertical, esencialmente <tt>[(1+5+9), (2+6+10), (3+7+11), (4+8+12)]</tt>\n",
    "\n",
    "<img src='Figures/axis_logic.png' width=400/>"
   ]
  },
  {
   "cell_type": "code",
   "execution_count": null,
   "metadata": {},
   "outputs": [],
   "source": []
  },
  {
   "cell_type": "markdown",
   "metadata": {},
   "source": [
    "Esto nos dice que <tt>arr_2d</tt> tiene 3 filas y 4 columnas.\n",
    "\n",
    "En <tt>arr_2d.sum(axis=0)</tt>, se sumó el primer elemento de cada fila, luego el segundo elemento y así sucesivamente.\n",
    "\n",
    "Entonces, ¿qué debería <tt>arr_2d.sum(axis=1)</tt> regresar?"
   ]
  },
  {
   "cell_type": "markdown",
   "metadata": {},
   "source": [
    "## Ejercicio 1"
   ]
  },
  {
   "cell_type": "markdown",
   "metadata": {},
   "source": [
    "\n",
    "### Numpy\n",
    "\n",
    "1. Crear un vector con valores de 10 a 49.\n",
    "2. Elevar al cuadrado a aquellos números divisibles por 3.\n",
    "3. Redimensionar ese vector en una matriz de 20x2.\n",
    "4. Crear una nueva matriz de 2x10 y multiplicarla a la matriz anterior.\n",
    "5. Obtener la transpuesta de la matriz resultante."
   ]
  },
  {
   "cell_type": "code",
   "execution_count": 31,
   "metadata": {},
   "outputs": [
    {
     "name": "stdout",
     "output_type": "stream",
     "text": [
      "[10 11 12 13 14 15 16 17 18 19 20 21 22 23 24 25 26 27 28 29 30 31 32 33\n",
      " 34 35 36 37 38 39 40 41 42 43 44 45 46 47 48 49]\n",
      "item:12 -> 144\n",
      "item:15 -> 225\n",
      "item:18 -> 324\n",
      "item:21 -> 441\n",
      "item:24 -> 576\n",
      "item:27 -> 729\n",
      "item:30 -> 900\n",
      "item:33 -> 1089\n",
      "item:36 -> 1296\n",
      "item:39 -> 1521\n",
      "item:42 -> 1764\n",
      "item:45 -> 2025\n",
      "item:48 -> 2304\n",
      "[ 144  225  324  441  576  729  900 1089 1296 1521 1764 2025 2304]\n",
      "Redimensionar ese vector en una matriz de 20x2.\n",
      "[[10 11]\n",
      " [12 13]\n",
      " [14 15]\n",
      " [16 17]\n",
      " [18 19]\n",
      " [20 21]\n",
      " [22 23]\n",
      " [24 25]\n",
      " [26 27]\n",
      " [28 29]\n",
      " [30 31]\n",
      " [32 33]\n",
      " [34 35]\n",
      " [36 37]\n",
      " [38 39]\n",
      " [40 41]\n",
      " [42 43]\n",
      " [44 45]\n",
      " [46 47]\n",
      " [48 49]]\n"
     ]
    }
   ],
   "source": [
    "vector= np.arange(10,50) #Crear un vector con valores de 10 a 49.\n",
    "print(vector)\n",
    "\n",
    "for item in vector: #Elevar al cuadrado a aquellos números divisibles por 3.\n",
    "    if item%3 ==0 :\n",
    "        print(f\"item:{item} -> {item**2}\")\n",
    "\n",
    "print(vector[vector%3==0]**2) #Elevar al cuadrado a aquellos números divisibles por 3.\n",
    "\n",
    "print(\"Redimensionar ese vector en una matriz de 20x2.\")\n",
    "print(vector.reshape(20,2))\n",
    "\n",
    "\n"
   ]
  },
  {
   "cell_type": "code",
   "execution_count": null,
   "metadata": {},
   "outputs": [
    {
     "name": "stdout",
     "output_type": "stream",
     "text": [
      "Crear una nueva matriz de 2x10 y multiplicarla a la matriz anterior.\n",
      "[[76 77 17  6 49 33 34 56 53 22]\n",
      " [64  5 24 38 79  9 23 24 72  9]]\n",
      "[[1464  825  434  478 1359  429  593  824 1322  319]\n",
      " [1744  989  516  566 1615  513  707  984 1572  381]\n",
      " [2024 1153  598  654 1871  597  821 1144 1822  443]\n",
      " [2304 1317  680  742 2127  681  935 1304 2072  505]\n",
      " [2584 1481  762  830 2383  765 1049 1464 2322  567]\n",
      " [2864 1645  844  918 2639  849 1163 1624 2572  629]\n",
      " [3144 1809  926 1006 2895  933 1277 1784 2822  691]\n",
      " [3424 1973 1008 1094 3151 1017 1391 1944 3072  753]\n",
      " [3704 2137 1090 1182 3407 1101 1505 2104 3322  815]\n",
      " [3984 2301 1172 1270 3663 1185 1619 2264 3572  877]\n",
      " [4264 2465 1254 1358 3919 1269 1733 2424 3822  939]\n",
      " [4544 2629 1336 1446 4175 1353 1847 2584 4072 1001]\n",
      " [4824 2793 1418 1534 4431 1437 1961 2744 4322 1063]\n",
      " [5104 2957 1500 1622 4687 1521 2075 2904 4572 1125]\n",
      " [5384 3121 1582 1710 4943 1605 2189 3064 4822 1187]\n",
      " [5664 3285 1664 1798 5199 1689 2303 3224 5072 1249]\n",
      " [5944 3449 1746 1886 5455 1773 2417 3384 5322 1311]\n",
      " [6224 3613 1828 1974 5711 1857 2531 3544 5572 1373]\n",
      " [6504 3777 1910 2062 5967 1941 2645 3704 5822 1435]\n",
      " [6784 3941 1992 2150 6223 2025 2759 3864 6072 1497]]\n",
      "[[1464 1744 2024 2304 2584 2864 3144 3424 3704 3984 4264 4544 4824 5104\n",
      "  5384 5664 5944 6224 6504 6784]\n",
      " [ 825  989 1153 1317 1481 1645 1809 1973 2137 2301 2465 2629 2793 2957\n",
      "  3121 3285 3449 3613 3777 3941]\n",
      " [ 434  516  598  680  762  844  926 1008 1090 1172 1254 1336 1418 1500\n",
      "  1582 1664 1746 1828 1910 1992]\n",
      " [ 478  566  654  742  830  918 1006 1094 1182 1270 1358 1446 1534 1622\n",
      "  1710 1798 1886 1974 2062 2150]\n",
      " [1359 1615 1871 2127 2383 2639 2895 3151 3407 3663 3919 4175 4431 4687\n",
      "  4943 5199 5455 5711 5967 6223]\n",
      " [ 429  513  597  681  765  849  933 1017 1101 1185 1269 1353 1437 1521\n",
      "  1605 1689 1773 1857 1941 2025]\n",
      " [ 593  707  821  935 1049 1163 1277 1391 1505 1619 1733 1847 1961 2075\n",
      "  2189 2303 2417 2531 2645 2759]\n",
      " [ 824  984 1144 1304 1464 1624 1784 1944 2104 2264 2424 2584 2744 2904\n",
      "  3064 3224 3384 3544 3704 3864]\n",
      " [1322 1572 1822 2072 2322 2572 2822 3072 3322 3572 3822 4072 4322 4572\n",
      "  4822 5072 5322 5572 5822 6072]\n",
      " [ 319  381  443  505  567  629  691  753  815  877  939 1001 1063 1125\n",
      "  1187 1249 1311 1373 1435 1497]]\n"
     ]
    },
    {
     "ename": "",
     "evalue": "",
     "output_type": "error",
     "traceback": [
      "\u001b[1;31mThe Kernel crashed while executing code in the current cell or a previous cell. \n",
      "\u001b[1;31mPlease review the code in the cell(s) to identify a possible cause of the failure. \n",
      "\u001b[1;31mClick <a href='https://aka.ms/vscodeJupyterKernelCrash'>here</a> for more info. \n",
      "\u001b[1;31mView Jupyter <a href='command:jupyter.viewOutput'>log</a> for further details."
     ]
    }
   ],
   "source": [
    "print(\"Crear una nueva matriz de 2x10 y multiplicarla a la matriz anterior.\")\n",
    "matriz= np.random.randint(100, size=(2,10))\n",
    "print(matriz)\n",
    "B=vector.reshape(20,2)\n",
    "C= B@matriz\n",
    "print(C)\n",
    "\n",
    "#Obtener la transpuesta de la matriz resultante.\n",
    "print(C.transpose())"
   ]
  },
  {
   "cell_type": "markdown",
   "metadata": {},
   "source": [
    "## Ejercicio 2"
   ]
  },
  {
   "cell_type": "markdown",
   "metadata": {},
   "source": [
    "Se desea calcular el índice de masa corporal (IMC) de jugadores de un equipo de futbol. Los datos proporcionados corresponden a las listas de los nombres, altura y peso, tal como se muestra a continuación"
   ]
  },
  {
   "cell_type": "code",
   "execution_count": null,
   "metadata": {},
   "outputs": [],
   "source": [
    "nombre= ['Bonifacio de Cifuentes',\n",
    "'Ángel Machado Lara',\n",
    "'Geraldo de Atienza',\n",
    "'Onofre Posada Grande',\n",
    "'Samu Cantón-Figuerola',\n",
    "'Camilo Pol',\n",
    "'Toni Galvez Lara',\n",
    "'Lucho Manzano Rivas',\n",
    "'Abraham Aroca',\n",
    "'Anselmo Bartolomé Folch',\n",
    "'Toni Inocencio Rozas Porras',\n",
    "'Fausto Cortés-Arco',\n",
    "'Baltasar Carreño Isern']\n",
    "\n",
    "altura = [180, 215, 210, 210, 188, 176, 209, 200, 210, 188, 176, 209, 200]\n",
    "peso = [69, 74, 72, 75, 68, 70, 71, 73, 69, 74, 72, 75, 68, 70, 71, 73]"
   ]
  },
  {
   "cell_type": "markdown",
   "metadata": {},
   "source": [
    "El valor de IMC por cada jugador resulta de aplicar la fórmula:\n",
    "\n",
    "$$IMC = \\frac{peso(kg)}{altura(m)^2}$$\n",
    "\n",
    "**Nota:** Los valores de altura están dados en centímetros por lo que deberá hacer laconversión a metros previo a la aplicación de la fórmula. Adicionalmente, una vez obtenido el IMC se solicita:\n",
    "\n",
    "> a) Presentar el icm para cada jugador.\n",
    "\n",
    "> b) Indicar en qué índice se encuentra el icm más alto y a qué jugador le pertenece.\n",
    "\n",
    "> c) Calcular el promedio de los icm resultantes.\n",
    "\n",
    "> d) Muestre los nombres de los jugadores en orden de su imc, desde el que tiene menorimc al que tiene mayor imc."
   ]
  },
  {
   "cell_type": "code",
   "execution_count": null,
   "metadata": {},
   "outputs": [],
   "source": []
  },
  {
   "cell_type": "code",
   "execution_count": null,
   "metadata": {},
   "outputs": [],
   "source": []
  },
  {
   "cell_type": "code",
   "execution_count": null,
   "metadata": {},
   "outputs": [],
   "source": []
  }
 ],
 "metadata": {
  "kernelspec": {
   "display_name": "Python 3",
   "language": "python",
   "name": "python3"
  },
  "language_info": {
   "codemirror_mode": {
    "name": "ipython",
    "version": 3
   },
   "file_extension": ".py",
   "mimetype": "text/x-python",
   "name": "python",
   "nbconvert_exporter": "python",
   "pygments_lexer": "ipython3",
   "version": "3.11.9"
  }
 },
 "nbformat": 4,
 "nbformat_minor": 1
}
